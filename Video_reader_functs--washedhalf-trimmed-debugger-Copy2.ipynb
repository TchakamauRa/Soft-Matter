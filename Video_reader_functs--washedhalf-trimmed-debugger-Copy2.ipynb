{
 "cells": [
  {
   "cell_type": "code",
   "execution_count": 1,
   "metadata": {},
   "outputs": [
    {
     "data": {
      "text/plain": [
       "'This is video reader with all operations inside fnctions, so they can be called on \\n    each frame out of a set of frames, and each video out of a set of videos\\n    '"
      ]
     },
     "execution_count": 1,
     "metadata": {},
     "output_type": "execute_result"
    }
   ],
   "source": [
    "\"\"\"This is video reader with all operations inside fnctions, so they can be called on \n",
    "    each frame out of a set of frames, and each video out of a set of videos\n",
    "    \"\"\""
   ]
  },
  {
   "cell_type": "code",
   "execution_count": 2,
   "metadata": {},
   "outputs": [],
   "source": [
    "\"\"\"Imports\"\"\"\n",
    "import matplotlib.pyplot as plt #for maknig plots inside the notebook\n",
    "import skimage\n",
    "import skvideo.io\n",
    "from skvideo.io import vreader, ffprobe\n",
    "from skimage import measure, morphology, feature\n",
    "from skimage.filters import *\n",
    "from skimage.morphology import *\n",
    "from operator import attrgetter\n",
    "import numpy as np\n",
    "import math\n",
    "from itertools import chain\n",
    "#from functools import partial, update_wrapper\n",
    "from scipy import ndimage \n",
    "#from pims import pipeline, Video\n",
    "from glob import glob\n",
    "import seaborn as sns\n",
    "from collections import OrderedDict \n",
    "#import antigravity"
   ]
  },
  {
   "cell_type": "code",
   "execution_count": null,
   "metadata": {
    "scrolled": false
   },
   "outputs": [
    {
     "name": "stdout",
     "output_type": "stream",
     "text": [
      "['./tchakamau\\\\Washed15vhalf\\\\45657_15Vpp_101_a.avi', './tchakamau\\\\Washed15vhalf\\\\45662_15Vpp_111_a.avi', './tchakamau\\\\Washed15vhalf\\\\45686_15Vpp_131_pushed_a.avi', './tchakamau\\\\Washed15vhalf\\\\45693_15Vpp_121_a.avi', './tchakamau\\\\Washed15vhalf\\\\45706_15Vpp_71_a.avi', './tchakamau\\\\Washed15vhalf\\\\45706_15Vpp_72_ba.avi', './tchakamau\\\\Washed15vhalf\\\\45734_15Vpp_8.avi', './tchakamau\\\\Washed15vhalf\\\\45755_15Vpp_141_a.avi', './tchakamau\\\\Washed15vhalf\\\\45782_15Vpp_21_a.avi', './tchakamau\\\\Washed15vhalf\\\\45782_15Vpp_22_ba.avi', './tchakamau\\\\Washed15vhalf\\\\45782_15Vpp_31_a.avi', './tchakamau\\\\Washed15vhalf\\\\45782_15Vpp_32_ba.avi', './tchakamau\\\\Washed15vhalf\\\\45782_15Vpp_33_ca.avi', './tchakamau\\\\Washed15vhalf\\\\45782_15Vpp_4.avi']\n",
      "Number files:  14\n",
      "Processing vid 0 : ./tchakamau\\Washed15vhalf\\45657_15Vpp_101_a.avi\n",
      "T threshold: 40.0\n",
      "C threshold: 22\n",
      "[[0. 0. 1.]\n",
      " [0. 0. 0.]\n",
      " [0. 0. 6.]]\n",
      "[[[list([]) list([]) list([3757])]\n",
      "  [list([]) list([]) list([])]\n",
      "  [list([]) list([]) list([1907, 445, 211, 400, 213, 198])]]\n",
      "\n",
      " [[list([]) list([]) list([2794])]\n",
      "  [list([]) list([]) list([])]\n",
      "  [list([]) list([]) list([1506, 18, 81, 256, 28, 75])]]\n",
      "\n",
      " [[list([]) list([]) list([963])]\n",
      "  [list([]) list([]) list([])]\n",
      "  [list([]) list([]) list([401, 427, 130, 144, 185, 123])]]]\n",
      "[2634.   26. 2427. 2087.]\n",
      "Processing vid 1 : ./tchakamau\\Washed15vhalf\\45662_15Vpp_111_a.avi\n"
     ]
    }
   ],
   "source": [
    "\"\"\"Pipeline for lists of frames\"\"\"\n",
    "\"\"\"\"\"\"\n",
    "\"\"\"Pipeline for videos:\"\"\"\n",
    "# initialize frame lists\n",
    "filenames =glob(\"./tchakamau/W*half/*_[4,8]*.avi\") +glob(\"./tchakamau/W*half/*a.avi\")#glob(\"./tchakamau/W*half/*_21*a.avi\")  #[1,2,3,4,6,7,8,9][\"./tchakamau/New_setup/45681_10Vpp_25.avi\"\n",
    "filenames.sort()\n",
    "print(filenames)\n",
    "num_top_keys = 4\n",
    "num_full_keys = 4\n",
    "num_tran_keys = 3\n",
    "num_lengths = 3 # ways to measure the time betwen transitions, as it were\n",
    "trans_threshes = np.linspace(40, 60, 2)#[30, 40, 50]#[5, 8, 10, 19, 27, 38, 52, 60]\n",
    "class_threshes =[22,35]\n",
    "trans_runs = {}\n",
    "#trans_fil = 10\n",
    "\n",
    "ave = np.average\n",
    "expected_blobs = 4\n",
    "expected_connections = 5\n",
    "p_bond = 15*1.35\n",
    "g_bond = 15*1.15\n",
    "fp_bond = 15*1.75\n",
    "fg_bond = 15*1.8\n",
    "    \n",
    "\"\"\"area_threshold = 1800   # must have enough particles\n",
    "convex_thresholds = (2000, 2800)   # convex hull area (> 2500 filtered)  # particles must be in parallelogram\n",
    "minor_thresholds = (38, 48) # minor_axis length (< filterd) # particles must be in parallelogram\n",
    "major_thresholds = (59, 76)\"\"\"\n",
    "thresholds = [expected_blobs , expected_connections, p_bond, g_bond]\n",
    "params = [3, 115, 98, 2, 95, 80]\n",
    "print(\"Number files: \", len(filenames))\n",
    "index = 0\n",
    "for trans_fil in trans_threshes:\n",
    "    \n",
    "    for class_thresh in class_threshes:\n",
    "        \n",
    "        #Top_bottoms = np.zeros((len(filenames), num_top_keys))\n",
    "        Full_classif = np.zeros((len(filenames), num_full_keys))\n",
    "        N_transitions = np.zeros((len(filenames), num_tran_keys, num_tran_keys))\n",
    "        T_transitions = [[[[[] for i in range(len(filenames))] for j in range(num_lengths)] for k in range(num_tran_keys)] \n",
    "                          for l in range(num_tran_keys)]\n",
    "        num_total_frames = 0 \n",
    "        filtrate_len = 0\n",
    "        for vidnum in range(len(filenames)):\n",
    "            print(\"Processing vid %s : %s\" %(vidnum, filenames[vidnum]))\n",
    "            #meta = ffprobe(filenames[vidnum])\n",
    "            #print(meta)#['@nb_frames'])\n",
    "            #print(5)\n",
    "            frames = vreader(filenames[vidnum])\n",
    "            "
   ]
  },
  {
   "cell_type": "code",
   "execution_count": null,
   "metadata": {},
   "outputs": [],
   "source": []
  },
  {
   "cell_type": "code",
   "execution_count": null,
   "metadata": {},
   "outputs": [],
   "source": []
  },
  {
   "cell_type": "code",
   "execution_count": null,
   "metadata": {},
   "outputs": [],
   "source": []
  }
 ],
 "metadata": {
  "kernelspec": {
   "display_name": "Python 3",
   "language": "python",
   "name": "python3"
  },
  "language_info": {
   "codemirror_mode": {
    "name": "ipython",
    "version": 3
   },
   "file_extension": ".py",
   "mimetype": "text/x-python",
   "name": "python",
   "nbconvert_exporter": "python",
   "pygments_lexer": "ipython3",
   "version": "3.7.4"
  }
 },
 "nbformat": 4,
 "nbformat_minor": 2
}
