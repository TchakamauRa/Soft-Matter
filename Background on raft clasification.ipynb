{
 "cells": [
  {
   "cell_type": "code",
   "execution_count": null,
   "metadata": {},
   "outputs": [],
   "source": [
    "\"\"\"\n",
    "The purpose of the following techniques is to create a program which takes in an image \n",
    "of four particles (3 plastic and 1 glass bead), \n",
    "and classifies the shape of the image based on the location of the glass bead. If it is on the short\n",
    "axis the shape is 'c' for 'chevron', and if on the long axis it is 't' for 'top'.\n",
    "\"\"\""
   ]
  },
  {
   "cell_type": "code",
   "execution_count": null,
   "metadata": {},
   "outputs": [],
   "source": [
    "\"SOME TECHNIQUES USED\""
   ]
  },
  {
   "cell_type": "code",
   "execution_count": null,
   "metadata": {},
   "outputs": [],
   "source": [
    "import matplotlib.pyplot as plt #for maknig plots inside the notebook\n",
    "import skvideo.io # reads in videos\n",
    "from skimage import measure, morphology #scikit modules containing the functions for measuring image properties\n",
    "from skimage.filters import *  #image thresholding functions\n",
    "#from skimage.util import invert\n",
    "#from scipy import ndimage\n",
    "from operator import attrgetter\n",
    "import numpy as np\n",
    "import math\n",
    "from itertools import chain\n",
    "from glob import glob"
   ]
  },
  {
   "cell_type": "code",
   "execution_count": null,
   "metadata": {},
   "outputs": [],
   "source": [
    "\"Reading a video\"\n",
    "# read in a video file, display the first and last image, return the video\n",
    "def full_avi(filename):\n",
    "    Vid = skvideo.io.vread(filename)\n",
    "\n",
    "    fig, ax = plt.subplots(ncols=2)\n",
    "    ax[0].imshow(Vid[0]) # first fame of video\n",
    "    ax[1].imshow(Vid[-1]) #last frame of video\n",
    "\n",
    "    print(\"Video shape is: \", Vid.shape)\n",
    "    print(\"Video length is: \", len(Vid))\n",
    "    \n",
    "    return Vid"
   ]
  },
  {
   "cell_type": "code",
   "execution_count": null,
   "metadata": {},
   "outputs": [],
   "source": [
    "# read video\n",
    "filename = glob(\"./tchakamau/2*/test*.avi\")[1]\n",
    "print(filename)\n",
    "frame_vid = full_avi(filename)"
   ]
  },
  {
   "cell_type": "code",
   "execution_count": null,
   "metadata": {},
   "outputs": [],
   "source": [
    "# h is a list of indices for picking frames out of the video\n",
    "h = list(range(0, len(frame_vid), int(len(frame_vid)/300)))\n",
    "print('number of frames testing: %r' %(len(h)))\n",
    "\n",
    "#take a sample of ~300 frames from the full video for testing \n",
    "framelist = frame_vid[h]\n",
    "plt.imshow(framelist[-1]) #an example frame\n",
    "print(framelist.shape)"
   ]
  },
  {
   "cell_type": "code",
   "execution_count": null,
   "metadata": {},
   "outputs": [],
   "source": [
    "'Using thresholds to separate particles from bakground'\n",
    "#How well the transparent particle is piked up depends on the threshold\n",
    "#The following image shows some of the thresholds available\n",
    "#I use the li and isodata thresholds in my image processing\n",
    "img = framelist[1] #example image \n",
    "fig, ax = try_all_threshold(img, figsize=(10, 10), verbose=False)\n"
   ]
  },
  {
   "cell_type": "code",
   "execution_count": null,
   "metadata": {},
   "outputs": [],
   "source": [
    "#Now you see every dot"
   ]
  },
  {
   "cell_type": "code",
   "execution_count": null,
   "metadata": {},
   "outputs": [],
   "source": [
    "#now you see only the plastic ones"
   ]
  },
  {
   "cell_type": "markdown",
   "metadata": {},
   "source": [
    "There is not suh a big differene between these,\n",
    "but with a few functions to fill in the whole space we can get the whole raft from threshold_li.\n",
    "The threshold_li has a better chance of capturing the entire outer edge, which allows us to do this\n",
    "The others, like threshold_yen, sometimes capture refletons as well."
   ]
  },
  {
   "cell_type": "markdown",
   "metadata": {},
   "source": [
    "Measure.regionprops returns properties of a region, like its filled area, \n",
    "its orientation, its major axis, etc.\n",
    "but it needs a labelled image, so we label the thresholded image first. \n",
    "Regionprops calculates a list of properties for every labelled area."
   ]
  },
  {
   "cell_type": "code",
   "execution_count": null,
   "metadata": {},
   "outputs": [],
   "source": [
    "thresh_img = img > threshold_li(img) # binary image\n",
    "img_labelled = measure.label(thresh_img) # contains connected regions\n",
    "properties_lists = measure.regionprops(img_labelled, coordinates = 'rc') \n",
    "plt.imshow(img_labelled)\n",
    "print(properties_lists[0])"
   ]
  },
  {
   "cell_type": "markdown",
   "metadata": {},
   "source": [
    "Measure.label picks out regions of the image whicha re connected and labels each conneted region\n",
    "this way. To get the properties of the raft and not the dust on the screen or disattached partiles, we have to take the largest region only."
   ]
  },
  {
   "cell_type": "code",
   "execution_count": null,
   "metadata": {},
   "outputs": [],
   "source": [
    "biggest_region_properties = [max(list_of_properties, key = attrgetter('area')) for list_of_properties in properties_lists]\n",
    "print(biggest_region_properties)"
   ]
  },
  {
   "cell_type": "code",
   "execution_count": null,
   "metadata": {},
   "outputs": [],
   "source": [
    "A good way to separate out frames with rafts which have broken apart is by area. \n",
    "A good threshold (found on test data) is area >= 1875 pixels. \n",
    "Similarly, other parameters "
   ]
  },
  {
   "cell_type": "code",
   "execution_count": null,
   "metadata": {},
   "outputs": [],
   "source": []
  }
 ],
 "metadata": {
  "kernelspec": {
   "display_name": "Python 3",
   "language": "python",
   "name": "python3"
  },
  "language_info": {
   "codemirror_mode": {
    "name": "ipython",
    "version": 3
   },
   "file_extension": ".py",
   "mimetype": "text/x-python",
   "name": "python",
   "nbconvert_exporter": "python",
   "pygments_lexer": "ipython3",
   "version": "3.6.7"
  }
 },
 "nbformat": 4,
 "nbformat_minor": 2
}
