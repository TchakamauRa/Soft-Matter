{
 "cells": [
  {
   "cell_type": "code",
   "execution_count": null,
   "metadata": {},
   "outputs": [],
   "source": [
    "\"\"\"Imports\"\"\"\n",
    "import matplotlib.pyplot as plt #for maknig plots inside the notebook\n",
    "import skimage\n",
    "import skvideo.io\n",
    "from skvideo.io import vreader, ffprobe\n",
    "from skimage import measure\n",
    "from skimage.filters import threshold_yen, threshold_isodata\n",
    "from operator import attrgetter\n",
    "import numpy as np\n",
    "import math\n",
    "from itertools import chain\n",
    "#from functools import partial, update_wrapper\n",
    "from scipy import ndimage \n",
    "from pims import pipeline, Video\n",
    "from glob import glob\n",
    "import seaborn as sns\n",
    "#import antigravity"
   ]
  },
  {
   "cell_type": "code",
   "execution_count": null,
   "metadata": {},
   "outputs": [],
   "source": [
    "\"\"\"Pipeline for lists of frames\"\"\"\n",
    "\"\"\"\"\"\"\n",
    "\"\"\"Pipeline for videos:\"\"\"\n",
    "# initialize frame lists\n",
    "filename = \"./tchakamau/New_setup/45621_10Vpp_23.avi\"#glob(\"./tchakamau/New_setup/*.avi\")# glob(\"./tchakamau/New_setup/45681_10Vpp_25.avi\") #filenames = \n",
    "num_top_keys = 4\n",
    "num_full_keys = 7\n",
    "num_tran_keys = 5\n",
    "tran_range = range(2,100, 2)\n",
    "Top = np.zeros((len(tran_range), num_top_keys))\n",
    "Full = np.zeros((len(tran_range), num_full_keys))\n",
    "N_t = np.zeros((len(tran_range), num_tran_keys))\n",
    "\n",
    "ave = np.average\n",
    "tc = 0    \n",
    "for trans_fil in tran_range:\n",
    "    print(\"started tran# %s\" %trans_fil)\n",
    "    frames = vread(filename)\n",
    "    frame_vid = frames[:, :, :, 2]# making videos ino a frame list\n",
    "    org = total_threshold_filter(frame_vid, trans_fil)\n",
    "    filtered_len = org[0]\n",
    "    sids = org[1]\n",
    "    cls = org[2]\n",
    "    tran = org[3]\n",
    "    #----------------------------------------------------------------\n",
    "    trans_len = len([y for x in tran.values() for y in x])\n",
    "    ss = list(sids.keys())\n",
    "    cs = list(cls.keys())\n",
    "    ts = list(tran.keys())\n",
    "    sls = [len(sids[x]) for x in skeys]\n",
    "    clls = [len(cls[x]) for x in ckeys]\n",
    "    trs = [len(tran[x]) for x in tkeys]\n",
    "    ucf = len(sids[\"ucf\"])\n",
    "    newtucf = len(cls[\"newt\"]) + ucf\n",
    "\n",
    "\n",
    "\n",
    "    Top[tc,:] = [sls[i] for i in range(len(ss))]\n",
    "    Full[tc,:] = [clls[i] for i in range(len(cs))]\n",
    "    N_t[tc,:] = [trs[i] for i in range(len(ts))]\n",
    "    tc += 1\n",
    "    print(\"finished tran_num %s\" %trans_fil)\n",
    "\n",
    "\n",
    "    "
   ]
  },
  {
   "cell_type": "code",
   "execution_count": null,
   "metadata": {},
   "outputs": [],
   "source": [
    "print(len(N_t))\n",
    "T_sums = [sums(N_t[tc, :]) for tc in range(0, tc, 1)]\n",
    "print(N_t)\n",
    "print(T_sums)\n",
    "print(N_t[0])\n",
    "plt.plot(list(range(2, (tc+1)*2, 2)), T_sums, \".\")\n",
    "#plt.hist(T_sums) # # transitions per threshold\n",
    "\n",
    "# Some Plot of how the %ges of each transition or time spent in each state  changes with the transition cutoff"
   ]
  }
 ],
 "metadata": {
  "kernelspec": {
   "display_name": "Python 3",
   "language": "python",
   "name": "python3"
  },
  "language_info": {
   "codemirror_mode": {
    "name": "ipython",
    "version": 3
   },
   "file_extension": ".py",
   "mimetype": "text/x-python",
   "name": "python",
   "nbconvert_exporter": "python",
   "pygments_lexer": "ipython3",
   "version": "3.7.1"
  }
 },
 "nbformat": 4,
 "nbformat_minor": 2
}
