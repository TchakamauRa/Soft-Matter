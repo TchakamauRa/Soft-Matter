{
 "cells": [
  {
   "cell_type": "code",
   "execution_count": 1,
   "metadata": {},
   "outputs": [
    {
     "name": "stdout",
     "output_type": "stream",
     "text": [
      "bm br bl tr tl\n",
      "[[0.5  0.   0.   0.25 0.25]\n",
      " [0.   0.   0.75 0.25 0.  ]\n",
      " [0.   0.75 0.   0.   0.25]\n",
      " [0.25 0.25 0.   0.   0.5 ]\n",
      " [0.25 0.   0.25 0.5  0.  ]]\n",
      "bm b t\n",
      "[[0.5 0.  0.5]\n",
      " [0.  1.5 0.5]\n",
      " [0.5 0.5 1. ]] [1. 2. 2.] [1. 2. 2.]\n",
      "[[0.5  0.   0.5 ]\n",
      " [0.   0.75 0.25]\n",
      " [0.25 0.25 0.5 ]] [0.75 1.   1.25] [1. 1. 1.]\n"
     ]
    }
   ],
   "source": [
    "\n",
    "import numpy as np\n",
    "import math\n",
    "import matplotlib.pyplot as plt\n",
    "#Initialize transformation matrix for predictions\n",
    "#bm, br, bl, tr, tl\n",
    "print('bm', 'br', 'bl', 'tr', 'tl')\n",
    "T_expected_narrow = np.reshape([.5, 0, 0, .25, .25, \n",
    "                                0, 0, .75, .25, 0, \n",
    "                                0, .75, 0, 0, .25, \n",
    "                                .25, .25, 0, 0, .5, \n",
    "                                .25, 0, .25, .5, 0], (5, 5))\n",
    "print(T_expected_narrow)\n",
    "T_eb = np.vstack([T_expected_narrow[0], \n",
    "                             (T_expected_narrow[1] + T_expected_narrow[2]) , \n",
    "                             (T_expected_narrow[3] + T_expected_narrow[4])])\n",
    "T_expected_broad = np.column_stack([T_eb[:, 0], \n",
    "                             (T_eb[:, 1]+ T_eb[:, 2]), \n",
    "                             (T_eb[:, 3]+ T_eb[:, 4])])\n",
    "T_expected_broad_norm  = np.vstack([T_expected_broad[0]/np.sum(T_expected_broad[0]), \n",
    "                              T_expected_broad[1]/np.sum(T_expected_broad[1]), \n",
    "                              T_expected_broad[2]/np.sum(T_expected_broad[2])])\n",
    "print('bm', 'b', 't')\n",
    "print(T_expected_broad, np.sum(T_expected_broad, axis = 0), np.sum(T_expected_broad, axis = 1))\n",
    "print(T_expected_broad_norm, np.sum(T_expected_broad_norm, axis = 0), np.sum(T_expected_broad_norm, axis = 1))"
   ]
  },
  {
   "cell_type": "code",
   "execution_count": 2,
   "metadata": {},
   "outputs": [
    {
     "name": "stdout",
     "output_type": "stream",
     "text": [
      "Eigenvector for eigenvalue 1\n",
      "[1. 1. 1. 1. 1.]\n"
     ]
    }
   ],
   "source": [
    "# np.linalg expects a right matrix but I created a left matrix above, so I use the transpose for the eigenvalue calculation\n",
    "eigvals, eigvecs = np.linalg.eig(T_expected_narrow.T)\n",
    "eig_one_index = [x for x in range(len(eigvals)) if math.isclose(eigvals[x], 1.0, abs_tol = .0001)][0]\n",
    "eigvec_one = eigvecs[:, eig_one_index]\n",
    "evec_one = eigvec_one / eigvec_one[0]\n",
    "print(\"Eigenvector for eigenvalue 1\")\n",
    "print(evec_one)"
   ]
  },
  {
   "cell_type": "code",
   "execution_count": 3,
   "metadata": {},
   "outputs": [
    {
     "name": "stdout",
     "output_type": "stream",
     "text": [
      "Eigenvector for eigenvalue 1\n",
      "[1. 2. 2.]\n"
     ]
    }
   ],
   "source": [
    "# np.linalg expects a right matrix but I created a left matrix above, so I use the transpose for the eigenvalue calculation\n",
    "eigvals, eigvecs = np.linalg.eig(T_expected_broad_norm.T)\n",
    "eig_one_index = [x for x in range(len(eigvals)) if math.isclose(eigvals[x], 1.0, abs_tol = .0001)][0]\n",
    "eigvec_one = eigvecs[:, eig_one_index]\n",
    "evec_one = eigvec_one / eigvec_one[0]\n",
    "print(\"Eigenvector for eigenvalue 1\")\n",
    "print(evec_one)"
   ]
  },
  {
   "cell_type": "code",
   "execution_count": 4,
   "metadata": {},
   "outputs": [
    {
     "name": "stdout",
     "output_type": "stream",
     "text": [
      "\n",
      "TRANSITION THRESHOLD  10\n",
      "[[390.  24.  17.  53. 179.]\n",
      " [ 17.  56.  29.   9.  28.]\n",
      " [ 23.  23. 171.  18.  18.]\n",
      " [ 56.   8.  18. 530.  24.]\n",
      " [178.  28.  15.  26. 409.]] \n",
      " [[0.59 0.04 0.03 0.08 0.27]\n",
      " [0.12 0.4  0.21 0.06 0.2 ]\n",
      " [0.09 0.09 0.68 0.07 0.07]\n",
      " [0.09 0.01 0.03 0.83 0.04]\n",
      " [0.27 0.04 0.02 0.04 0.62]] [1. 1. 1. 1. 1.] [1.16083832 0.58524743 0.96133119 1.08880159 1.20378147]\n",
      "\n",
      "Eigenvector for eigenvalue 1 of T_ob_norm:\n",
      "[28.4  5.9 10.4 27.1 28.2]\n"
     ]
    }
   ],
   "source": [
    "#narrow observations array\n",
    "trans_runs= np.load('trans_runs2.npy')[()]\n",
    "trans_threshes = [10]\n",
    "for trans_fil in trans_threshes:\n",
    "    print(\"\\nTRANSITION THRESHOLD \", trans_fil)\n",
    "    \n",
    "    #Top_bottoms, Full_classif, N_transitions = trans_runs[trans_fil]\n",
    "    Top_bottoms, Full_classif, N_transitions, trans_threshes, num_top_keys, num_full_keys, num_tran_keys, skeys, ckeys, num_tran_keys, num_total_frames = trans_runs[trans_fil]\n",
    "    sums = np.sum\n",
    "    Tb_sums = [sums(Top_bottoms[:, c]) for c in range(num_top_keys)]\n",
    "    Fc_sums = [sums(Full_classif[:, c]) for c in range(num_full_keys)]\n",
    "    Nt_sums = sums(N_transitions, axis = 0)#[sums(N_transitions[:, c]) for c in range(num_tran_keys)]\n",
    "    \n",
    "    T_ob = Nt_sums\n",
    "    T_ob_norm = np.vstack([T_ob[i]/np.sum(T_ob[i]) for i in range(len(T_ob))])\n",
    "    print(T_ob, '\\n', np.around(T_ob_norm, 2), np.sum(T_ob_norm, axis = 1), np.sum(T_ob_norm, axis = 0))\n",
    "    eigvals, eigvecs = np.linalg.eig(T_ob_norm.T)\n",
    "    eig_one_index = [x for x in range(len(eigvals)) if math.isclose(eigvals[x], 1.0, abs_tol = .0001)][0]\n",
    "    eigvec_one = eigvecs[:, eig_one_index]\n",
    "    evec_one = np.around(eigvec_one*100 / np.sum(eigvec_one), 1)\n",
    "    print(\"\\nEigenvector for eigenvalue 1 of T_ob_norm:\")\n",
    "    print(evec_one)"
   ]
  },
  {
   "cell_type": "code",
   "execution_count": 5,
   "metadata": {},
   "outputs": [
    {
     "name": "stdout",
     "output_type": "stream",
     "text": [
      "[[0.   0.04 0.03 0.   0.  ]\n",
      " [0.12 0.4  0.   0.   0.2 ]\n",
      " [0.09 0.   0.68 0.07 0.  ]\n",
      " [0.   0.   0.03 0.83 0.  ]\n",
      " [0.   0.04 0.   0.   0.62]]\n"
     ]
    }
   ],
   "source": [
    "# Impossible transitions - where none was predicted, but it happened -> the transition happened by breaking off, not by moving along surface\n",
    "impossible = np.zeros((5,5))\n",
    "impossible[T_expected_narrow == 0] = T_ob_norm[T_expected_narrow == 0]\n",
    "#impossible[T_expected_narrow != 0] = 0\n",
    "print(np.around(impossible,2))"
   ]
  },
  {
   "cell_type": "code",
   "execution_count": 6,
   "metadata": {},
   "outputs": [
    {
     "name": "stdout",
     "output_type": "stream",
     "text": [
      "\n",
      "TRANSITION THRESHOLD  5\n",
      "[[ 763.   46.  326.]\n",
      " [  49.  604.   78.]\n",
      " [ 324.   78. 1533.]] \n",
      " [[0.67 0.04 0.29]\n",
      " [0.07 0.83 0.11]\n",
      " [0.17 0.04 0.79]] [1. 1. 1.]\n",
      "[30.  18.9 51.1]\n",
      "\n",
      "TRANSITION THRESHOLD  8\n",
      "[[ 475.   41.  264.]\n",
      " [  43.  345.   74.]\n",
      " [ 263.   73. 1174.]] \n",
      " [[0.61 0.05 0.34]\n",
      " [0.09 0.75 0.16]\n",
      " [0.17 0.05 0.78]] [1. 1. 1.]\n",
      "[28.5 16.4 55.1]\n",
      "\n",
      "TRANSITION THRESHOLD  10\n",
      "[[390.  41. 232.]\n",
      " [ 40. 279.  73.]\n",
      " [234.  69. 989.]] \n",
      " [[0.59 0.06 0.35]\n",
      " [0.1  0.71 0.19]\n",
      " [0.18 0.05 0.77]] [1. 1. 1.]\n",
      "[28.4 16.3 55.3]\n",
      "\n",
      "TRANSITION THRESHOLD  19\n",
      "[[226.  37. 173.]\n",
      " [ 34. 155.  64.]\n",
      " [177.  59. 659.]] \n",
      " [[0.52 0.08 0.4 ]\n",
      " [0.13 0.61 0.25]\n",
      " [0.2  0.07 0.74]] [1. 1. 1.]\n",
      "[27.6 15.7 56.7]\n",
      "\n",
      "TRANSITION THRESHOLD  27\n",
      "[[164.  35. 127.]\n",
      " [ 28. 120.  60.]\n",
      " [135.  51. 502.]] \n",
      " [[0.5  0.11 0.39]\n",
      " [0.13 0.58 0.29]\n",
      " [0.2  0.07 0.73]] [1. 1. 1.]\n",
      "[26.8 16.7 56.5]\n",
      "\n",
      "TRANSITION THRESHOLD  38\n",
      "[[120.  30. 104.]\n",
      " [ 23. 101.  53.]\n",
      " [113.  43. 390.]] \n",
      " [[0.47 0.12 0.41]\n",
      " [0.13 0.57 0.3 ]\n",
      " [0.21 0.08 0.71]] [1. 1. 1.]\n",
      "[26.3 17.5 56.1]\n",
      "\n",
      "TRANSITION THRESHOLD  52\n",
      "[[ 68.  26.  79.]\n",
      " [ 20.  77.  49.]\n",
      " [ 87.  40. 314.]] \n",
      " [[0.39 0.15 0.46]\n",
      " [0.14 0.53 0.34]\n",
      " [0.2  0.09 0.71]] [1. 1. 1.]\n",
      "[23.1 18.5 58.3]\n",
      "\n",
      "TRANSITION THRESHOLD  60\n",
      "[[ 54.  21.  70.]\n",
      " [ 15.  70.  42.]\n",
      " [ 77.  34. 262.]] \n",
      " [[0.37 0.14 0.48]\n",
      " [0.12 0.55 0.33]\n",
      " [0.21 0.09 0.7 ]] [1. 1. 1.]\n",
      "[22.7 19.1 58.1]\n"
     ]
    },
    {
     "data": {
      "text/plain": [
       "Text(0, 0.5, 'observed probability of transition')"
      ]
     },
     "execution_count": 6,
     "metadata": {},
     "output_type": "execute_result"
    },
    {
     "data": {
      "image/png": "[encoded data removed]",
      "text/plain": [
       "<Figure size 432x288 with 1 Axes>"
      ]
     },
     "metadata": {
      "needs_background": "light"
     },
     "output_type": "display_data"
    }
   ],
   "source": [
    "#broad observations array\n",
    "trans_runs= np.load('trans_runs2.npy')[()]\n",
    "trans_threshes = trans_threshes = [5, 8, 10, 19, 27, 38, 52, 60]\n",
    "x1 = []\n",
    "x2 = []\n",
    "x3 = []\n",
    "for trans_fil in trans_threshes:\n",
    "    print(\"\\nTRANSITION THRESHOLD \", trans_fil)\n",
    "    \n",
    "    #Top_bottoms, Full_classif, N_transitions = trans_runs[trans_fil]\n",
    "    Top_bottoms, Full_classif, N_transitions, trans_threshes, num_top_keys, num_full_keys, num_tran_keys, skeys, ckeys, num_tran_keys, num_total_frames = trans_runs[trans_fil]\n",
    "    sums = np.sum\n",
    "    Tb_sums = [sums(Top_bottoms[:, c]) for c in range(num_top_keys)]\n",
    "    Fc_sums = [sums(Full_classif[:, c]) for c in range(num_full_keys)]\n",
    "    Nt_sums = sums(N_transitions, axis = 0)#[sums(N_transitions[:, c]) for c in range(num_tran_keys)]\n",
    "    T_obb = Nt_sums\n",
    "    T_eb = np.vstack([T_obb[0], \n",
    "                                 (T_obb[1] + T_obb[2]) , \n",
    "                                 (T_obb[3] + T_obb[4])])\n",
    "    T_obb = np.column_stack([T_eb[:, 0], \n",
    "                                 (T_eb[:, 1]+ T_eb[:, 2]), \n",
    "                                 (T_eb[:, 3]+ T_eb[:, 4])])\n",
    "    T_obb_norm = np.vstack([T_obb[i]/np.sum(T_obb[i]) for i in range(len(T_obb))])\n",
    "    print(T_obb, '\\n', np.around(T_obb_norm, 2), np.sum(T_obb_norm, axis=1))\n",
    "    eigvals, eigvecs = np.linalg.eig(T_obb_norm.T)\n",
    "    eig_one_index = [x for x in range(len(eigvals)) if math.isclose(eigvals[x], 1.0, abs_tol = .0001)][0]\n",
    "    eigvec_one = eigvecs[:, eig_one_index]\n",
    "    evec_one = np.around(eigvec_one*100 / np.sum(eigvec_one), 1)\n",
    "    print(evec_one)\n",
    "    #print(\"Eigenvector for eigenvalue 1 of T_obb_norm:\")\n",
    "    #print(evec_one, eigvec_one, eigvecs, eigvals)\n",
    "    x1.append(evec_one[0])\n",
    "    x2.append(evec_one[1])\n",
    "    x3.append(evec_one[2])\n",
    "plt.plot(trans_threshes, x1, c = 'blue', ls = '-')\n",
    "plt.plot(trans_threshes, x2, c = 'green', ls = '-')\n",
    "plt.plot(trans_threshes, x3, c = 'orange', ls = '-')\n",
    "\n",
    "plt.axhline(y=(28.4), c = 'blue', ls = ':')\n",
    "plt.axhline(y=(16.3), c = 'green', ls = ':')\n",
    "plt.axhline(y=(55.3), c = 'orange', ls = ':')\n",
    "plt.xlabel('transition threshold', fontsize=18)\n",
    "plt.ylabel('observed probability of transition', fontsize=16)\n",
    "#plt.plot((1, 1, 1),(23, 42, 35), 'x')\n",
    "#plt.plot((10, 10, 10),(20, 40, 40), 'o')"
   ]
  },
  {
   "cell_type": "code",
   "execution_count": 7,
   "metadata": {},
   "outputs": [
    {
     "name": "stdout",
     "output_type": "stream",
     "text": [
      "\n",
      "TRANSITION THRESHOLD  10\n",
      "[[390.  41. 232.]\n",
      " [ 40. 279.  73.]\n",
      " [234.  69. 989.]] \n",
      " [[0.59 0.06 0.35]\n",
      " [0.1  0.71 0.19]\n",
      " [0.18 0.05 0.77]] [1. 1. 1.]\n",
      "Eigenvector for eigenvalue 1 of T_obb_norm:\n",
      "[28.4 16.3 55.3] [-0.44148129 -0.25413494 -0.86052874] [[-0.44148129 -0.71899167  0.25424345]\n",
      " [-0.25413494  0.02440147 -0.79907425]\n",
      " [-0.86052874  0.6945902   0.54483081]] [1.         0.40980438 0.65564548]\n"
     ]
    }
   ],
   "source": [
    "#broad observations array\n",
    "trans_runs= np.load('trans_runs2.npy')[()]\n",
    "trans_threshes = [10]\n",
    "for trans_fil in trans_threshes:\n",
    "    print(\"\\nTRANSITION THRESHOLD \", trans_fil)\n",
    "    \n",
    "    #Top_bottoms, Full_classif, N_transitions = trans_runs[trans_fil]\n",
    "    Top_bottoms, Full_classif, N_transitions, trans_threshes, num_top_keys, num_full_keys, num_tran_keys, skeys, ckeys, num_tran_keys, num_total_frames = trans_runs[trans_fil]\n",
    "    sums = np.sum\n",
    "    Tb_sums = [sums(Top_bottoms[:, c]) for c in range(num_top_keys)]\n",
    "    Fc_sums = [sums(Full_classif[:, c]) for c in range(num_full_keys)]\n",
    "    Nt_sums = sums(N_transitions, axis = 0)#[sums(N_transitions[:, c]) for c in range(num_tran_keys)]\n",
    "    T_obb = Nt_sums\n",
    "    T_eb = np.vstack([T_obb[0], \n",
    "                                 (T_obb[1] + T_obb[2]) , \n",
    "                                 (T_obb[3] + T_obb[4])])\n",
    "    T_obb = np.column_stack([T_eb[:, 0], \n",
    "                                 (T_eb[:, 1]+ T_eb[:, 2]), \n",
    "                                 (T_eb[:, 3]+ T_eb[:, 4])])\n",
    "    T_obb_norm = np.vstack([T_obb[i]/np.sum(T_obb[i]) for i in range(len(T_obb))])\n",
    "    print(T_obb, '\\n', np.around(T_obb_norm, 2), np.sum(T_obb_norm, axis=1))\n",
    "    eigvals, eigvecs = np.linalg.eig(T_obb_norm.T)\n",
    "    eig_one_index = [x for x in range(len(eigvals)) if math.isclose(eigvals[x], 1.0, abs_tol = .0001)][0]\n",
    "    eigvec_one = eigvecs[:, eig_one_index]\n",
    "    evec_one = np.around(eigvec_one*100 / np.sum(eigvec_one), 1)\n",
    "    print(\"Eigenvector for eigenvalue 1 of T_obb_norm:\")\n",
    "    print(evec_one, eigvec_one, eigvecs, eigvals)"
   ]
  },
  {
   "cell_type": "code",
   "execution_count": 8,
   "metadata": {},
   "outputs": [
    {
     "name": "stdout",
     "output_type": "stream",
     "text": [
      "[[ 0. 41.  0.]\n",
      " [40.  0.  0.]\n",
      " [ 0.  0.  0.]]\n"
     ]
    }
   ],
   "source": [
    "# Impossible transitions - where none was predicted, but it happened -> the transition happened by breaking off, not by moving along surface\n",
    "impossible = np.zeros((3,3))\n",
    "impossible[T_expected_broad == 0] = T_obb[T_expected_broad == 0]\n",
    "#impossible[T_expected_narrow != 0] = 0\n",
    "print(impossible)\n",
    "\n"
   ]
  },
  {
   "cell_type": "code",
   "execution_count": 25,
   "metadata": {
    "scrolled": false
   },
   "outputs": [
    {
     "name": "stdout",
     "output_type": "stream",
     "text": [
      "0 10.0\n",
      "1 14.0\n",
      "2 15.0\n",
      "3 16.0\n",
      "4 18.0\n",
      "5 20.0\n",
      "6 23.0\n",
      "7 24.0\n",
      "8 25.0\n",
      "9 31.0\n",
      "10 53.0\n",
      "0 56.0\n",
      "1 49.0\n",
      "2 47.0\n",
      "3 45.0\n",
      "4 43.0\n",
      "5 40.0\n",
      "6 36.0\n",
      "7 36.0\n",
      "8 34.0\n",
      "9 28.0\n",
      "10 12.0\n",
      "0 34.0\n",
      "1 37.0\n",
      "2 38.0\n",
      "3 38.0\n",
      "4 39.0\n",
      "5 40.0\n",
      "6 41.0\n",
      "7 41.0\n",
      "8 41.0\n",
      "9 41.0\n",
      "10 35.0\n"
     ]
    },
    {
     "data": {
      "text/plain": [
       "[<matplotlib.lines.Line2D at 0x26b6eb59748>]"
      ]
     },
     "execution_count": 25,
     "metadata": {},
     "output_type": "execute_result"
    },
    {
     "data": {
      "image/png": "[encoded data removed]",
      "text/plain": [
       "<Figure size 432x288 with 1 Axes>"
      ]
     },
     "metadata": {
      "needs_background": "light"
     },
     "output_type": "display_data"
    }
   ],
   "source": [
    "\"tESTING HYPOTHESIS WITH all positions possible in a swing\"\n",
    "#narrow observations array\n",
    "alphas = [0.2, 0.5, 0.6, 0.7, 0.8, 1, 1.25, 1.3, 1.4, 2, 5]\n",
    "x1 = []\n",
    "x2 = []\n",
    "x3 = []\n",
    "for i in alphas:\n",
    "    #print('\\nalpha = %s' %i)\n",
    "    T_expected_narrow = np.asarray([[4*i+4, 0, 0, 4,4],\n",
    "     [0, 5+i,5+i, i+1, i+1],\n",
    "     [0, 5+i,5+i, i+1, i+1],\n",
    "     [2*i+2, 2, 2, 3+i, 3+i],\n",
    "     [2*i+2, 2, 2, 3+i, 3+i]])\n",
    "    T_eb = np.vstack([T_expected_narrow[0], \n",
    "                             (T_expected_narrow[1] + T_expected_narrow[2]) , \n",
    "                             (T_expected_narrow[3] + T_expected_narrow[4])])\n",
    "    T_expected_broad = np.column_stack([T_eb[:, 0], \n",
    "                                 (T_eb[:, 1]+ T_eb[:, 2]), \n",
    "                                 (T_eb[:, 3]+ T_eb[:, 4])])\n",
    "    T_expected_broad_norm  = np.vstack([T_expected_broad[0]/np.sum(T_expected_broad[0]), \n",
    "                                  T_expected_broad[1]/np.sum(T_expected_broad[1]), \n",
    "                                  T_expected_broad[2]/np.sum(T_expected_broad[2])])\n",
    "    T_expected_broad_norm = np.vstack([T_expected_broad[i]/np.sum(T_expected_broad[i]) for i in range(len(T_expected_broad))])\n",
    "    #print(T_expected_broad, '\\n\\n', np.around(T_expected_broad_norm, 2))\n",
    "    eigvals, eigvecs = np.linalg.eig(T_expected_broad_norm.T)\n",
    "    eig_one_index = [x for x in range(len(eigvals)) if math.isclose(eigvals[x], 1.0, abs_tol = .0001)][0]\n",
    "    eigvec_one = eigvecs[:, eig_one_index]\n",
    "    evec_one = np.around(eigvec_one*100 / np.sum(eigvec_one), 0)\n",
    "    #print(\"Eigenvector for eigenvalue 1 of T_ob_norm:\")\n",
    "    #print(evec_one)\n",
    "    #plt.plot((i, i, i), (evec_one), 'x')\n",
    "    x1.append(evec_one[0])\n",
    "    x2.append(evec_one[1])\n",
    "    x3.append(evec_one[2])\n",
    "plt.plot(alphas, x1, c = 'blue', ls = '-')\n",
    "plt.plot(alphas, x2, c = 'green', ls = '-')\n",
    "plt.plot(alphas, x3, c = 'orange', ls = '-')\n",
    "ys = [x1, x2, x3]\n",
    "y_points = [28.4, 16.3, 55.3]\n",
    "for i in range(len(ys)):\n",
    "    for h, j in enumerate(ys[i]):\n",
    "        print(h, j)\n",
    "        if math.isclose(j, y_points[i], abs_tol = .1):\n",
    "            plt.plot(alphas[h], j, 'o')\n",
    "plt.axhline(y=(28.4), c = 'blue', ls = ':')\n",
    "plt.axhline(y=(16.3), c = 'green', ls = ':')\n",
    "plt.axhline(y=(55.3), c = 'orange', ls = ':')\n",
    "plt.xlabel('bond strength', fontsize=18)\n",
    "plt.ylabel('steady state probabilities', fontsize=16)\n",
    "#plt.plot((1, 1, 1),(23, 42, 35), 'x')\n",
    "plt.plot((1, 1, 1),(20, 40, 40), 'o')"
   ]
  },
  {
   "cell_type": "code",
   "execution_count": 11,
   "metadata": {
    "scrolled": false
   },
   "outputs": [
    {
     "name": "stderr",
     "output_type": "stream",
     "text": [
      "C:\\ProgramData\\Anaconda3\\lib\\site-packages\\ipykernel_launcher.py:26: ComplexWarning: Casting complex values to real discards the imaginary part\n",
      "C:\\ProgramData\\Anaconda3\\lib\\site-packages\\numpy\\core\\numeric.py:501: ComplexWarning: Casting complex values to real discards the imaginary part\n",
      "  return array(a, dtype, copy=False, order=order)\n"
     ]
    },
    {
     "data": {
      "text/plain": [
       "[<matplotlib.lines.Line2D at 0x26b6e5df4a8>]"
      ]
     },
     "execution_count": 11,
     "metadata": {},
     "output_type": "execute_result"
    },
    {
     "data": {
      "image/png": "[encoded data removed]",
      "text/plain": [
       "<Figure size 432x288 with 1 Axes>"
      ]
     },
     "metadata": {
      "needs_background": "light"
     },
     "output_type": "display_data"
    }
   ],
   "source": [
    "\"tESTING HYPOTHESIS WITH all position, early state unimportant, end sate proportional to bond strengths\"\n",
    "#narrow observations array\n",
    "alphas = [0.2, 0.5, 0.6, 0.7, 0.8, 1, 1.25, 1.3, 1.4, 2, 5]\n",
    "x1 = []\n",
    "x2 = []\n",
    "x3 = []\n",
    "for i in alphas:\n",
    "    #print('\\nalpha = %s' %i)\n",
    "    T_expected_narrow = np.asarray([[3+4*i, 5+2*i, 5+2*i, 4+3*i, 4+3*i],\n",
    "     [3+4*i, 5+2*i, 5+2*i, 4+3*i, 4+3*i],\n",
    "     [3+4*i, 5+2*i, 5+2*i, 4+3*i, 4+3*i],\n",
    "     [3+4*i, 5+2*i, 5+2*i, 4+3*i, 4+3*i],\n",
    "     [3+4*i, 5+2*i, 5+2*i, 4+3*i, 4+3*i]])\n",
    "    T_eb = np.vstack([T_expected_narrow[0], \n",
    "                             (T_expected_narrow[1] + T_expected_narrow[2]) , \n",
    "                             (T_expected_narrow[3] + T_expected_narrow[4])])\n",
    "    T_expected_broad = np.column_stack([T_eb[:, 0], \n",
    "                                 (T_eb[:, 1]+ T_eb[:, 2]), \n",
    "                                 (T_eb[:, 3]+ T_eb[:, 4])])\n",
    "    T_expected_broad_norm  = np.vstack([T_expected_broad[0]/np.sum(T_expected_broad[0]), \n",
    "                                  T_expected_broad[1]/np.sum(T_expected_broad[1]), \n",
    "                                  T_expected_broad[2]/np.sum(T_expected_broad[2])])\n",
    "    T_expected_broad_norm = np.vstack([T_expected_broad[i]/np.sum(T_expected_broad[i]) for i in range(len(T_expected_broad))])\n",
    "    #print(T_expected_broad, '\\n\\n', np.around(T_expected_broad_norm, 2))\n",
    "    eigvals, eigvecs = np.linalg.eig(T_expected_broad_norm.T)\n",
    "    eig_one_index = [x for x in range(len(eigvals)) if math.isclose(eigvals[x], 1.0, abs_tol = .0001)][0]\n",
    "    eigvec_one = eigvecs[:, eig_one_index]\n",
    "    evec_one = np.around(eigvec_one*100 / np.sum(eigvec_one), 0)\n",
    "    #print(\"Eigenvector for eigenvalue 1 of T_ob_norm:\")\n",
    "    #print(evec_one)\n",
    "    #plt.plot((i, i, i), (evec_one), 'x')\n",
    "    x1.append(evec_one[0])\n",
    "    x2.append(evec_one[1])\n",
    "    x3.append(evec_one[2])\n",
    "plt.plot(alphas, x1, c = 'blue', ls = '-')\n",
    "plt.plot(alphas, x2, c = 'green', ls = '-')\n",
    "plt.plot(alphas, x3, c = 'orange', ls = '-')\n",
    "\n",
    "plt.axhline(y=(28.4), c = 'blue', ls = ':')\n",
    "plt.axhline(y=(16.3), c = 'green', ls = ':')\n",
    "plt.axhline(y=(55.3), c = 'orange', ls = ':')\n",
    "plt.xlabel('bond strength', fontsize=18)\n",
    "plt.ylabel('steady state probabilities', fontsize=16)\n",
    "#plt.plot((1, 1, 1),(23, 42, 35), 'x')\n",
    "plt.plot((1, 1, 1),(20, 40, 40), 'o')"
   ]
  },
  {
   "cell_type": "code",
   "execution_count": 12,
   "metadata": {
    "scrolled": false
   },
   "outputs": [
    {
     "data": {
      "text/plain": [
       "[<matplotlib.lines.Line2D at 0x26b6e44fa20>]"
      ]
     },
     "execution_count": 12,
     "metadata": {},
     "output_type": "execute_result"
    },
    {
     "data": {
      "image/png": "[encoded data removed]",
      "text/plain": [
       "<Figure size 432x288 with 1 Axes>"
      ]
     },
     "metadata": {
      "needs_background": "light"
     },
     "output_type": "display_data"
    }
   ],
   "source": [
    "\"tESTING HYPOTHESIS WITH 2 positions for particle to swing to (no swing back to old state)\"\n",
    "#narrow observations array\n",
    "alphas = [0.2, 0.5, 0.6, 0.7, 0.8, 1, 1.25, 1.3, 1.4, 2, 5]\n",
    "x1 = []\n",
    "x2 = []\n",
    "x3 = []\n",
    "for i in alphas:\n",
    "    #print('\\nalpha = %s' %i)\n",
    "    T_expected_narrow = np.asarray([[2*i+2, 0, 0, 2, 2],\n",
    "     [0, 0, 5+i, i+1, 0],\n",
    "     [0, 5+i, 0, 0, i+1],\n",
    "     [i+1, 2, 0, 0, 3+i],\n",
    "     [i+1, 0, 2, 3+i, 0]])\n",
    "    T_eb = np.vstack([T_expected_narrow[0], \n",
    "                             (T_expected_narrow[1] + T_expected_narrow[2]) , \n",
    "                             (T_expected_narrow[3] + T_expected_narrow[4])])\n",
    "    T_expected_broad = np.column_stack([T_eb[:, 0], \n",
    "                                 (T_eb[:, 1]+ T_eb[:, 2]), \n",
    "                                 (T_eb[:, 3]+ T_eb[:, 4])])\n",
    "    T_expected_broad_norm  = np.vstack([T_expected_broad[0]/np.sum(T_expected_broad[0]), \n",
    "                                  T_expected_broad[1]/np.sum(T_expected_broad[1]), \n",
    "                                  T_expected_broad[2]/np.sum(T_expected_broad[2])])\n",
    "    T_expected_broad_norm = np.vstack([T_expected_broad[i]/np.sum(T_expected_broad[i]) for i in range(len(T_expected_broad))])\n",
    "    #print(T_expected_broad, '\\n\\n', np.around(T_expected_broad_norm, 2))\n",
    "    eigvals, eigvecs = np.linalg.eig(T_expected_broad_norm.T)\n",
    "    eig_one_index = [x for x in range(len(eigvals)) if math.isclose(eigvals[x], 1.0, abs_tol = .0001)][0]\n",
    "    eigvec_one = eigvecs[:, eig_one_index]\n",
    "    evec_one = np.around(eigvec_one*100 / np.sum(eigvec_one), 0)\n",
    "    #print(\"Eigenvector for eigenvalue 1 of T_ob_norm:\")\n",
    "    #print(evec_one)\n",
    "    #plt.plot((i, i, i), (evec_one), 'x')\n",
    "    x1.append(evec_one[0])\n",
    "    x2.append(evec_one[1])\n",
    "    x3.append(evec_one[2])\n",
    "plt.plot(alphas, x1, c = 'blue', ls = '-')\n",
    "plt.plot(alphas, x2, c = 'green', ls = '-')\n",
    "plt.plot(alphas, x3, c = 'orange', ls = '-')\n",
    "\n",
    "plt.axhline(y=(28.4), c = 'blue', ls = ':')\n",
    "plt.axhline(y=(16.3), c = 'green', ls = ':')\n",
    "plt.axhline(y=(55.3), c = 'orange', ls = ':')\n",
    "plt.xlabel('bond strength', fontsize=18)\n",
    "plt.ylabel('steady state probabilities', fontsize=16)\n",
    "#plt.plot((1, 1, 1),(23, 42, 35), 'x')\n",
    "plt.plot((1, 1, 1),(20, 40, 40), 'o')"
   ]
  },
  {
   "cell_type": "code",
   "execution_count": 27,
   "metadata": {
    "scrolled": false
   },
   "outputs": [
    {
     "data": {
      "text/plain": [
       "[<matplotlib.lines.Line2D at 0x26b6e95ce10>]"
      ]
     },
     "execution_count": 27,
     "metadata": {},
     "output_type": "execute_result"
    },
    {
     "data": {
      "image/png": "[encoded data removed]",
      "text/plain": [
       "<Figure size 432x288 with 1 Axes>"
      ]
     },
     "metadata": {
      "needs_background": "light"
     },
     "output_type": "display_data"
    }
   ],
   "source": [
    "\"tESTING HYPOTHESIS WITH 2 positions for particle to swing to (no swing back to old state), and original state matters\"\n",
    "#narrow observations array\n",
    "alphas = [0.2, 0.5, 0.6, 0.7, 0.8, 1, 1.25, 1.3, 1.4, 2, 5]\n",
    "x1 = []\n",
    "x2 = []\n",
    "x3 = []\n",
    "for i in alphas:\n",
    "    #print('\\nalpha = %s' %i)\n",
    "    T_expected_narrow = np.asarray([[2, 0, 0, 2/(1+i), 2/(1+i)],\n",
    "     [0, 0, 3, (1+i)/2, 0],\n",
    "     [0, 3, 0, 0, (1+i)/2],\n",
    "     [(1+i)/2, 2/(1+i), 0, 0, 2],\n",
    "     [(1+i)/2, 0, 2/(1+i),2, 0]])\n",
    "    T_eb = np.vstack([T_expected_narrow[0], \n",
    "                             (T_expected_narrow[1] + T_expected_narrow[2]) , \n",
    "                             (T_expected_narrow[3] + T_expected_narrow[4])])\n",
    "    T_expected_broad = np.column_stack([T_eb[:, 0], \n",
    "                                 (T_eb[:, 1]+ T_eb[:, 2]), \n",
    "                                 (T_eb[:, 3]+ T_eb[:, 4])])\n",
    "    T_expected_broad_norm  = np.vstack([T_expected_broad[0]/np.sum(T_expected_broad[0]), \n",
    "                                  T_expected_broad[1]/np.sum(T_expected_broad[1]), \n",
    "                                  T_expected_broad[2]/np.sum(T_expected_broad[2])])\n",
    "    T_expected_broad_norm = np.vstack([T_expected_broad[i]/np.sum(T_expected_broad[i]) for i in range(len(T_expected_broad))])\n",
    "    #print(T_expected_broad, '\\n\\n', np.around(T_expected_broad_norm, 2))\n",
    "    eigvals, eigvecs = np.linalg.eig(T_expected_broad_norm.T)\n",
    "    eig_one_index = [x for x in range(len(eigvals)) if math.isclose(eigvals[x], 1.0, abs_tol = .0001)][0]\n",
    "    eigvec_one = eigvecs[:, eig_one_index]\n",
    "    evec_one = np.around(eigvec_one*100 / np.sum(eigvec_one), 0)\n",
    "    #print(\"Eigenvector for eigenvalue 1 of T_ob_norm:\")\n",
    "    #print(evec_one)\n",
    "    #plt.plot((i, i, i), (evec_one), 'x')\n",
    "    x1.append(evec_one[0])\n",
    "    x2.append(evec_one[1])\n",
    "    x3.append(evec_one[2])\n",
    "plt.plot(alphas, x1, c = 'blue', ls = '-')\n",
    "plt.plot(alphas, x2, c = 'green', ls = '-')\n",
    "plt.plot(alphas, x3, c = 'orange', ls = '-')\n",
    "\n",
    "plt.axhline(y=(28.4), c = 'blue', ls = ':')\n",
    "plt.axhline(y=(16.3), c = 'green', ls = ':')\n",
    "plt.axhline(y=(55.3), c = 'orange', ls = ':')\n",
    "plt.xlabel('bond strength', fontsize=18)\n",
    "plt.ylabel('steady state probabilities', fontsize=16)\n",
    "#plt.plot((1, 1, 1),(23, 42, 35), 'x')\n",
    "plt.plot((1, 1, 1),(20, 40, 40), 'o')"
   ]
  },
  {
   "cell_type": "code",
   "execution_count": 14,
   "metadata": {},
   "outputs": [
    {
     "name": "stdout",
     "output_type": "stream",
     "text": [
      "[[ 3.  3.  5.]\n",
      " [ 5. 29. 13.]\n",
      " [ 9. 12. 16.]] \n",
      " [[0.27 0.27 0.45]\n",
      " [0.11 0.62 0.28]\n",
      " [0.24 0.32 0.43]] [1. 1. 1.]\n",
      "Eigenvector for eigenvalue 1 of T_obb_norm:\n",
      "[19. 44. 37.]\n"
     ]
    }
   ],
   "source": [
    "\"I don't know where I got tis from, but it's here\"\n",
    "#broken transition matrix hypothesis array\n",
    "T_obb = np.asarray([[3, 1., 2., 2., 3.],\n",
    " [3., 7., 6., 4., 2.],\n",
    " [2., 7., 9., 4., 3.],\n",
    " [5., 2., 4., 4., 4.],\n",
    " [4., 3., 3., 3., 5.]])\n",
    "T_eb = np.vstack([T_obb[0], \n",
    "                             (T_obb[1] + T_obb[2]) , \n",
    "                             (T_obb[3] + T_obb[4])])\n",
    "T_obb = np.column_stack([T_eb[:, 0], \n",
    "                             (T_eb[:, 1]+ T_eb[:, 2]), \n",
    "                             (T_eb[:, 3]+ T_eb[:, 4])])\n",
    "T_obb_norm = np.vstack([T_obb[i]/np.sum(T_obb[i]) for i in range(len(T_obb))])\n",
    "print(T_obb, '\\n', np.around(T_obb_norm, 2), np.sum(T_obb_norm, axis=1))\n",
    "eigvals, eigvecs = np.linalg.eig(T_obb_norm.T)\n",
    "eig_one_index = [x for x in range(len(eigvals)) if math.isclose(eigvals[x], 1.0, abs_tol = .0001)][0]\n",
    "eigvec_one = eigvecs[:, eig_one_index]\n",
    "evec_one = np.around(eigvec_one*100 / np.sum(eigvec_one), 0)\n",
    "print(\"Eigenvector for eigenvalue 1 of T_obb_norm:\")\n",
    "print(evec_one)"
   ]
  },
  {
   "cell_type": "markdown",
   "metadata": {
    "scrolled": false
   },
   "source": [
    "#sample initial distributions of states, given 50 steps to equalize to a stady state\n",
    "reps = 50\n",
    "trials = 6\n",
    "for i in range(trials):\n",
    "    x0 = np.random.random_integers(0, 10, 5) \n",
    "    x0 = x0*100/sum(x0)\n",
    "    xs = np.zeros((len(x0), reps))\n",
    "    xs[:,0] = x0\n",
    "    ys = [0]\n",
    "    T = T_expected_narrow\n",
    "    for rep in range(1, reps):\n",
    "        x_rep = T.dot(xs[:, rep-1])\n",
    "        #print(x_rep)\n",
    "        xs[:, rep] = x_rep\n",
    "        ys.append(rep)\n",
    "    #print(xs)\n",
    "    fig, ax = plt.subplots()\n",
    "    ax.plot(ys, xs[0],'.', ys, xs[1], '.', ys,xs[2],'.', ys,xs[3],'.', ys, xs[4], '.')\n"
   ]
  },
  {
   "cell_type": "code",
   "execution_count": 15,
   "metadata": {},
   "outputs": [
    {
     "data": {
      "text/plain": [
       "'MATRICES FROM OTHER transition thresold runs'"
      ]
     },
     "execution_count": 15,
     "metadata": {},
     "output_type": "execute_result"
    }
   ],
   "source": [
    "\"MATRICES FROM OTHER transition thresold runs\""
   ]
  },
  {
   "cell_type": "code",
   "execution_count": 16,
   "metadata": {},
   "outputs": [
    {
     "name": "stdout",
     "output_type": "stream",
     "text": [
      "[[86. 14. 15. 30. 32.]\n",
      " [39. 75. 71. 39. 21.]\n",
      " [23. 64. 90. 34. 33.]\n",
      " [49. 22. 41. 46. 42.]\n",
      " [44. 29. 31. 35. 55.]] \n",
      " [[0.49 0.08 0.08 0.17 0.18]\n",
      " [0.16 0.31 0.29 0.16 0.09]\n",
      " [0.09 0.26 0.37 0.14 0.14]\n",
      " [0.24 0.11 0.2  0.23 0.21]\n",
      " [0.23 0.15 0.16 0.18 0.28]]\n",
      "Eigenvector for eigenvalue 1 of T_ob_norm:\n",
      "[26.-0.j 18.-0.j 22.-0.j 17.-0.j 18.-0.j]\n"
     ]
    },
    {
     "name": "stderr",
     "output_type": "stream",
     "text": [
      "C:\\ProgramData\\Anaconda3\\lib\\site-packages\\ipykernel_launcher.py:10: ComplexWarning: Casting complex values to real discards the imaginary part\n",
      "  # Remove the CWD from sys.path while we load stuff.\n"
     ]
    }
   ],
   "source": [
    "#T = 10\n",
    "T_ob = np.asarray([[86., 14., 15., 30. ,32.],\n",
    " [39. ,75., 71. ,39., 21.],\n",
    " [23., 64., 90., 34., 33.],\n",
    " [49., 22. ,41., 46., 42.],\n",
    " [44., 29., 31., 35. ,55.]])\n",
    "T_ob_norm = np.vstack([T_ob[i]/np.sum(T_ob[i]) for i in range(len(T_ob))])\n",
    "print(T_ob, '\\n', np.around(T_ob_norm, 2))\n",
    "eigvals, eigvecs = np.linalg.eig(T_ob_norm.T)\n",
    "eig_one_index = [x for x in range(len(eigvals)) if math.isclose(eigvals[x], 1.0, abs_tol = .0001)][0]\n",
    "eigvec_one = eigvecs[:, eig_one_index]\n",
    "evec_one = np.around(eigvec_one*100 / np.sum(eigvec_one), 0)\n",
    "print(\"Eigenvector for eigenvalue 1 of T_ob_norm:\")\n",
    "print(evec_one)"
   ]
  },
  {
   "cell_type": "code",
   "execution_count": 17,
   "metadata": {},
   "outputs": [
    {
     "name": "stdout",
     "output_type": "stream",
     "text": [
      "[[26.  8. 11. 16. 19.]\n",
      " [26. 38. 51. 33. 18.]\n",
      " [14. 51. 42. 23. 24.]\n",
      " [23. 15. 27. 26. 30.]\n",
      " [18. 22. 22. 26. 31.]] \n",
      " [[0.32 0.1  0.14 0.2  0.24]\n",
      " [0.16 0.23 0.31 0.2  0.11]\n",
      " [0.09 0.33 0.27 0.15 0.16]\n",
      " [0.19 0.12 0.22 0.21 0.25]\n",
      " [0.15 0.18 0.18 0.22 0.26]]\n",
      "Eigenvector for eigenvalue 1 of T_ob_norm:\n",
      "[18.+0.j 20.+0.j 23.+0.j 19.+0.j 20.+0.j]\n"
     ]
    },
    {
     "name": "stderr",
     "output_type": "stream",
     "text": [
      "C:\\ProgramData\\Anaconda3\\lib\\site-packages\\ipykernel_launcher.py:10: ComplexWarning: Casting complex values to real discards the imaginary part\n",
      "  # Remove the CWD from sys.path while we load stuff.\n"
     ]
    }
   ],
   "source": [
    "#T = 27\n",
    "T_ob = np.asarray([[26.,  8., 11. ,16., 19.],\n",
    " [26., 38., 51., 33., 18.],\n",
    " [14. ,51., 42., 23., 24.],\n",
    " [23., 15. ,27. ,26., 30.],\n",
    " [18., 22. ,22., 26., 31.]])\n",
    "T_ob_norm = np.vstack([T_ob[i]/np.sum(T_ob[i]) for i in range(len(T_ob))])\n",
    "print(T_ob, '\\n', np.around(T_ob_norm, 2))\n",
    "eigvals, eigvecs = np.linalg.eig(T_ob_norm.T)\n",
    "eig_one_index = [x for x in range(len(eigvals)) if math.isclose(eigvals[x], 1.0, abs_tol = .0001)][0]\n",
    "eigvec_one = eigvecs[:, eig_one_index]\n",
    "evec_one = np.around(eigvec_one*100 / np.sum(eigvec_one), 0)\n",
    "print(\"Eigenvector for eigenvalue 1 of T_ob_norm:\")\n",
    "print(evec_one)"
   ]
  },
  {
   "cell_type": "code",
   "execution_count": 18,
   "metadata": {},
   "outputs": [
    {
     "name": "stdout",
     "output_type": "stream",
     "text": [
      "[[21.  7. 10. 16. 17.]\n",
      " [23. 30. 40. 30. 18.]\n",
      " [13. 40. 31. 21. 20.]\n",
      " [18. 13. 22. 23. 25.]\n",
      " [14. 18. 17. 16. 25.]] \n",
      " [[0.3  0.1  0.14 0.23 0.24]\n",
      " [0.16 0.21 0.28 0.21 0.13]\n",
      " [0.1  0.32 0.25 0.17 0.16]\n",
      " [0.18 0.13 0.22 0.23 0.25]\n",
      " [0.16 0.2  0.19 0.18 0.28]]\n",
      "Eigenvector for eigenvalue 1 of T_ob_norm:\n",
      "[17. 20. 22. 20. 21.]\n"
     ]
    }
   ],
   "source": [
    "#T=38\n",
    "T_ob = np.asarray([[21. , 7. ,10. ,16. ,17.],\n",
    " [23. ,30., 40., 30. ,18.],\n",
    " [13., 40. ,31. ,21., 20.],\n",
    " [18. ,13. ,22., 23. ,25.],\n",
    " [14. ,18., 17., 16., 25.]])\n",
    "T_ob_norm = np.vstack([T_ob[i]/np.sum(T_ob[i]) for i in range(len(T_ob))])\n",
    "print(T_ob, '\\n', np.around(T_ob_norm, 2))\n",
    "eigvals, eigvecs = np.linalg.eig(T_ob_norm.T)\n",
    "eig_one_index = [x for x in range(len(eigvals)) if math.isclose(eigvals[x], 1.0, abs_tol = .0001)][0]\n",
    "eigvec_one = eigvecs[:, eig_one_index]\n",
    "evec_one = np.around(eigvec_one*100 / np.sum(eigvec_one), 0)\n",
    "print(\"Eigenvector for eigenvalue 1 of T_ob_norm:\")\n",
    "print(evec_one)"
   ]
  },
  {
   "cell_type": "code",
   "execution_count": 19,
   "metadata": {},
   "outputs": [
    {
     "name": "stdout",
     "output_type": "stream",
     "text": [
      "[[12.  7.  8. 11. 15.]\n",
      " [20. 20. 27. 27. 12.]\n",
      " [11. 30. 23. 18. 16.]\n",
      " [14. 12. 19. 18. 21.]\n",
      " [11. 17. 14. 15. 23.]] \n",
      " [[0.23 0.13 0.15 0.21 0.28]\n",
      " [0.19 0.19 0.25 0.25 0.11]\n",
      " [0.11 0.31 0.23 0.18 0.16]\n",
      " [0.17 0.14 0.23 0.21 0.25]\n",
      " [0.14 0.21 0.18 0.19 0.29]]\n",
      "Eigenvector for eigenvalue 1 of T_ob_norm:\n",
      "[16.-0.j 20.-0.j 21.-0.j 21.-0.j 22.-0.j]\n"
     ]
    },
    {
     "name": "stderr",
     "output_type": "stream",
     "text": [
      "C:\\ProgramData\\Anaconda3\\lib\\site-packages\\ipykernel_launcher.py:10: ComplexWarning: Casting complex values to real discards the imaginary part\n",
      "  # Remove the CWD from sys.path while we load stuff.\n"
     ]
    }
   ],
   "source": [
    "#T=52\n",
    "T_ob = np.asarray([[12. , 7.,  8. ,11., 15.],\n",
    " [20. ,20. ,27. ,27. ,12.],\n",
    " [11., 30. ,23., 18., 16.],\n",
    " [14., 12., 19., 18., 21.],\n",
    " [11., 17. ,14. ,15., 23.]])\n",
    "T_ob_norm = np.vstack([T_ob[i]/np.sum(T_ob[i]) for i in range(len(T_ob))])\n",
    "print(T_ob, '\\n', np.around(T_ob_norm, 2))\n",
    "eigvals, eigvecs = np.linalg.eig(T_ob_norm.T)\n",
    "eig_one_index = [x for x in range(len(eigvals)) if math.isclose(eigvals[x], 1.0, abs_tol = .0001)][0]\n",
    "eigvec_one = eigvecs[:, eig_one_index]\n",
    "evec_one = np.around(eigvec_one*100 / np.sum(eigvec_one), 0)\n",
    "print(\"Eigenvector for eigenvalue 1 of T_ob_norm:\")\n",
    "print(evec_one)"
   ]
  },
  {
   "cell_type": "code",
   "execution_count": 20,
   "metadata": {},
   "outputs": [
    {
     "name": "stdout",
     "output_type": "stream",
     "text": [
      "[[ 9.  5.  7.  9. 13.]\n",
      " [19. 19. 26. 25. 12.]\n",
      " [11. 26. 19. 17. 13.]\n",
      " [11. 12. 18. 16. 21.]\n",
      " [11. 17. 12. 14. 20.]] \n",
      " [[0.21 0.12 0.16 0.21 0.3 ]\n",
      " [0.19 0.19 0.26 0.25 0.12]\n",
      " [0.13 0.3  0.22 0.2  0.15]\n",
      " [0.14 0.15 0.23 0.21 0.27]\n",
      " [0.15 0.23 0.16 0.19 0.27]]\n",
      "Eigenvector for eigenvalue 1 of T_ob_norm:\n",
      "[16.-0.j 20.-0.j 21.-0.j 21.-0.j 22.-0.j]\n"
     ]
    },
    {
     "name": "stderr",
     "output_type": "stream",
     "text": [
      "C:\\ProgramData\\Anaconda3\\lib\\site-packages\\ipykernel_launcher.py:10: ComplexWarning: Casting complex values to real discards the imaginary part\n",
      "  # Remove the CWD from sys.path while we load stuff.\n"
     ]
    }
   ],
   "source": [
    "#T=60\n",
    "T_ob = np.asarray([[ 9. , 5. , 7. , 9., 13.],\n",
    " [19. ,19., 26. ,25., 12.],\n",
    " [11. ,26., 19., 17. ,13.],\n",
    " [11., 12. ,18., 16., 21.],\n",
    " [11., 17., 12. ,14. ,20.]])\n",
    "T_ob_norm = np.vstack([T_ob[i]/np.sum(T_ob[i]) for i in range(len(T_ob))])\n",
    "print(T_ob, '\\n', np.around(T_ob_norm, 2))\n",
    "eigvals, eigvecs = np.linalg.eig(T_ob_norm.T)\n",
    "eig_one_index = [x for x in range(len(eigvals)) if math.isclose(eigvals[x], 1.0, abs_tol = .0001)][0]\n",
    "eigvec_one = eigvecs[:, eig_one_index]\n",
    "evec_one = np.around(eigvec_one*100 / np.sum(eigvec_one), 0)\n",
    "print(\"Eigenvector for eigenvalue 1 of T_ob_norm:\")\n",
    "print(evec_one)"
   ]
  },
  {
   "cell_type": "code",
   "execution_count": null,
   "metadata": {},
   "outputs": [],
   "source": []
  },
  {
   "cell_type": "code",
   "execution_count": null,
   "metadata": {},
   "outputs": [],
   "source": []
  }
 ],
 "metadata": {
  "kernelspec": {
   "display_name": "Python 3",
   "language": "python",
   "name": "python3"
  },
  "language_info": {
   "codemirror_mode": {
    "name": "ipython",
    "version": 3
   },
   "file_extension": ".py",
   "mimetype": "text/x-python",
   "name": "python",
   "nbconvert_exporter": "python",
   "pygments_lexer": "ipython3",
   "version": "3.7.1"
  }
 },
 "nbformat": 4,
 "nbformat_minor": 2
}
