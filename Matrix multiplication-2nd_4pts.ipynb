{
 "cells": [
  {
   "cell_type": "code",
   "execution_count": 1,
   "metadata": {},
   "outputs": [
    {
     "name": "stdout",
     "output_type": "stream",
     "text": [
      "bm br bl tr tl\n",
      "[[0.5  0.   0.   0.25 0.25]\n",
      " [0.   0.   0.75 0.25 0.  ]\n",
      " [0.   0.75 0.   0.   0.25]\n",
      " [0.25 0.25 0.   0.   0.5 ]\n",
      " [0.25 0.   0.25 0.5  0.  ]]\n",
      "bm b t\n",
      "[[0.5 0.  0.5]\n",
      " [0.  1.5 0.5]\n",
      " [0.5 0.5 1. ]] [1. 2. 2.] [1. 2. 2.]\n",
      "[[0.5  0.   0.5 ]\n",
      " [0.   0.75 0.25]\n",
      " [0.25 0.25 0.5 ]] [0.75 1.   1.25] [1. 1. 1.]\n"
     ]
    }
   ],
   "source": [
    "\n",
    "import numpy as np\n",
    "import math\n",
    "import matplotlib.pyplot as plt\n",
    "#Initialize transformation matrix for predictions\n",
    "#bm, br, bl, tr, tl\n",
    "print('bm', 'br', 'bl', 'tr', 'tl')\n",
    "T_expected_narrow = np.reshape([.5, 0, 0, .25, .25, \n",
    "                                0, 0, .75, .25, 0, \n",
    "                                0, .75, 0, 0, .25, \n",
    "                                .25, .25, 0, 0, .5, \n",
    "                                .25, 0, .25, .5, 0], (5, 5))\n",
    "print(T_expected_narrow)\n",
    "T_eb = np.vstack([T_expected_narrow[0], \n",
    "                             (T_expected_narrow[1] + T_expected_narrow[2]) , \n",
    "                             (T_expected_narrow[3] + T_expected_narrow[4])])\n",
    "T_expected_broad = np.column_stack([T_eb[:, 0], \n",
    "                             (T_eb[:, 1]+ T_eb[:, 2]), \n",
    "                             (T_eb[:, 3]+ T_eb[:, 4])])\n",
    "T_expected_broad_norm  = np.vstack([T_expected_broad[0]/np.sum(T_expected_broad[0]), \n",
    "                              T_expected_broad[1]/np.sum(T_expected_broad[1]), \n",
    "                              T_expected_broad[2]/np.sum(T_expected_broad[2])])\n",
    "print('bm', 'b', 't')\n",
    "print(T_expected_broad, np.sum(T_expected_broad, axis = 0), np.sum(T_expected_broad, axis = 1))\n",
    "print(T_expected_broad_norm, np.sum(T_expected_broad_norm, axis = 0), np.sum(T_expected_broad_norm, axis = 1))"
   ]
  },
  {
   "cell_type": "code",
   "execution_count": 2,
   "metadata": {},
   "outputs": [
    {
     "name": "stdout",
     "output_type": "stream",
     "text": [
      "Eigenvector for eigenvalue 1\n",
      "[1. 1. 1. 1. 1.]\n"
     ]
    }
   ],
   "source": [
    "# np.linalg expects a right matrix but I created a left matrix above, so I use the transpose for the eigenvalue calculation\n",
    "eigvals, eigvecs = np.linalg.eig(T_expected_narrow.T)\n",
    "eig_one_index = [x for x in range(len(eigvals)) if math.isclose(eigvals[x], 1.0, abs_tol = .0001)][0]\n",
    "eigvec_one = eigvecs[:, eig_one_index]\n",
    "evec_one = eigvec_one / eigvec_one[0]\n",
    "print(\"Eigenvector for eigenvalue 1\")\n",
    "print(evec_one)"
   ]
  },
  {
   "cell_type": "code",
   "execution_count": 3,
   "metadata": {},
   "outputs": [
    {
     "name": "stdout",
     "output_type": "stream",
     "text": [
      "Eigenvector for eigenvalue 1\n",
      "[1. 2. 2.]\n"
     ]
    }
   ],
   "source": [
    "# np.linalg expects a right matrix but I created a left matrix above, so I use the transpose for the eigenvalue calculation\n",
    "eigvals, eigvecs = np.linalg.eig(T_expected_broad_norm.T)\n",
    "eig_one_index = [x for x in range(len(eigvals)) if math.isclose(eigvals[x], 1.0, abs_tol = .0001)][0]\n",
    "eigvec_one = eigvecs[:, eig_one_index]\n",
    "evec_one = eigvec_one / eigvec_one[0]\n",
    "print(\"Eigenvector for eigenvalue 1\")\n",
    "print(evec_one)"
   ]
  },
  {
   "cell_type": "code",
   "execution_count": 4,
   "metadata": {},
   "outputs": [
    {
     "name": "stdout",
     "output_type": "stream",
     "text": [
      "[[8.09031044 1.31702728 1.41110066 2.82220132 3.01034807]\n",
      " [3.66886171 7.05550329 6.67920978 3.76293509 1.97554092]\n",
      " [2.16368768 6.02069614 8.46660395 3.19849483 3.19849483]\n",
      " [4.60959548 2.0696143  3.95108184 4.32737535 3.95108184]\n",
      " [4.1392286  2.72812794 2.91627469 3.2925682  5.17403575]] \n",
      " [[0.49 0.08 0.08 0.17 0.18]\n",
      " [0.16 0.3  0.29 0.16 0.09]\n",
      " [0.09 0.26 0.37 0.14 0.14]\n",
      " [0.24 0.11 0.21 0.23 0.21]\n",
      " [0.23 0.15 0.16 0.18 0.28]] [1. 1. 1. 1. 1.] [1.20887506 0.90413586 1.10945963 0.88013675 0.8973927 ]\n",
      "\n",
      "Eigenvector for eigenvalue 1 of T_ob_norm:\n",
      "[25.5-0.j 17.6-0.j 21.7-0.j 17.4-0.j 17.8-0.j]\n"
     ]
    },
    {
     "name": "stderr",
     "output_type": "stream",
     "text": [
      "C:\\ProgramData\\Anaconda3\\lib\\site-packages\\ipykernel_launcher.py:10: ComplexWarning: Casting complex values to real discards the imaginary part\n",
      "  # Remove the CWD from sys.path while we load stuff.\n"
     ]
    }
   ],
   "source": [
    "#narrow observations array\n",
    "T_ob = np.asarray([[8.09031044, 1.31702728, 1.41110066, 2.82220132, 3.01034807],\n",
    " [3.66886171, 7.05550329, 6.67920978, 3.76293509, 1.97554092],\n",
    " [2.16368768, 6.02069614, 8.46660395, 3.19849483, 3.19849483],\n",
    " [4.60959548, 2.0696143,  3.95108184, 4.32737535, 3.95108184],\n",
    " [4.1392286,  2.72812794, 2.91627469, 3.2925682,  5.17403575]])\n",
    "T_ob_norm = np.vstack([T_ob[i]/np.sum(T_ob[i]) for i in range(len(T_ob))])\n",
    "print(T_ob, '\\n', np.around(T_ob_norm, 2), np.sum(T_ob_norm, axis = 1), np.sum(T_ob_norm, axis = 0))\n",
    "eigvals, eigvecs = np.linalg.eig(T_ob_norm.T)\n",
    "eig_one_index = [x for x in range(len(eigvals)) if math.isclose(eigvals[x], 1.0, abs_tol = .0001)][0]\n",
    "eigvec_one = eigvecs[:, eig_one_index]\n",
    "evec_one = np.around(eigvec_one*100 / np.sum(eigvec_one), 1)\n",
    "print(\"\\nEigenvector for eigenvalue 1 of T_ob_norm:\")\n",
    "print(evec_one)"
   ]
  },
  {
   "cell_type": "code",
   "execution_count": 5,
   "metadata": {},
   "outputs": [
    {
     "name": "stdout",
     "output_type": "stream",
     "text": [
      "[[0.   0.08 0.08 0.   0.  ]\n",
      " [0.16 0.3  0.   0.   0.09]\n",
      " [0.09 0.   0.37 0.14 0.  ]\n",
      " [0.   0.   0.21 0.23 0.  ]\n",
      " [0.   0.15 0.   0.   0.28]]\n"
     ]
    }
   ],
   "source": [
    "# Impossible transitions - where none was predicted, but it happened -> the transition happened by breaking off, not by moving along surface\n",
    "impossible = np.zeros((5,5))\n",
    "impossible[T_expected_narrow == 0] = T_ob_norm[T_expected_narrow == 0]\n",
    "#impossible[T_expected_narrow != 0] = 0\n",
    "print(np.around(impossible,2))"
   ]
  },
  {
   "cell_type": "code",
   "execution_count": 6,
   "metadata": {},
   "outputs": [
    {
     "name": "stdout",
     "output_type": "stream",
     "text": [
      "[[ 8.09031044  2.72812794  5.83254939]\n",
      " [ 5.83254939 28.22201316 12.13546567]\n",
      " [ 8.74882408 11.66509877 16.74506114]] \n",
      " [[0.49 0.16 0.35]\n",
      " [0.13 0.61 0.26]\n",
      " [0.24 0.31 0.45]] [1. 1. 1.]\n",
      "Eigenvector for eigenvalue 1 of T_obb_norm:\n",
      "[25.7 39.2 35.1] [-0.43898959 -0.66895335 -0.5998246 ] [[-0.43898959 -0.56437202 -0.41274241]\n",
      " [-0.66895335  0.79317834 -0.40373762]\n",
      " [-0.5998246  -0.22880632  0.81648003]] [1.         0.40386228 0.1436443 ]\n"
     ]
    }
   ],
   "source": [
    "#broad observations array\n",
    "T_obb = np.asarray([[8.09031044, 1.31702728, 1.41110066, 2.82220132, 3.01034807],\n",
    " [3.66886171, 7.05550329, 6.67920978, 3.76293509, 1.97554092],\n",
    " [2.16368768, 6.02069614, 8.46660395, 3.19849483, 3.19849483],\n",
    " [4.60959548, 2.0696143,  3.95108184, 4.32737535, 3.95108184],\n",
    " [4.1392286,  2.72812794, 2.91627469, 3.2925682,  5.17403575]])\n",
    "T_eb = np.vstack([T_obb[0], \n",
    "                             (T_obb[1] + T_obb[2]) , \n",
    "                             (T_obb[3] + T_obb[4])])\n",
    "T_obb = np.column_stack([T_eb[:, 0], \n",
    "                             (T_eb[:, 1]+ T_eb[:, 2]), \n",
    "                             (T_eb[:, 3]+ T_eb[:, 4])])\n",
    "T_obb_norm = np.vstack([T_obb[i]/np.sum(T_obb[i]) for i in range(len(T_obb))])\n",
    "print(T_obb, '\\n', np.around(T_obb_norm, 2), np.sum(T_obb_norm, axis=1))\n",
    "eigvals, eigvecs = np.linalg.eig(T_obb_norm.T)\n",
    "eig_one_index = [x for x in range(len(eigvals)) if math.isclose(eigvals[x], 1.0, abs_tol = .0001)][0]\n",
    "eigvec_one = eigvecs[:, eig_one_index]\n",
    "evec_one = np.around(eigvec_one*100 / np.sum(eigvec_one), 1)\n",
    "print(\"Eigenvector for eigenvalue 1 of T_obb_norm:\")\n",
    "print(evec_one, eigvec_one, eigvecs, eigvals)"
   ]
  },
  {
   "cell_type": "code",
   "execution_count": 7,
   "metadata": {},
   "outputs": [
    {
     "name": "stdout",
     "output_type": "stream",
     "text": [
      "[[0.         2.72812794 0.        ]\n",
      " [5.83254939 0.         0.        ]\n",
      " [0.         0.         0.        ]]\n"
     ]
    }
   ],
   "source": [
    "# Impossible transitions - where none was predicted, but it happened -> the transition happened by breaking off, not by moving along surface\n",
    "impossible = np.zeros((3,3))\n",
    "impossible[T_expected_broad == 0] = T_obb[T_expected_broad == 0]\n",
    "#impossible[T_expected_narrow != 0] = 0\n",
    "print(impossible)\n",
    "\n",
    "\n",
    "\n"
   ]
  },
  {
   "cell_type": "code",
   "execution_count": null,
   "metadata": {},
   "outputs": [],
   "source": []
  },
  {
   "cell_type": "code",
   "execution_count": 8,
   "metadata": {},
   "outputs": [
    {
     "name": "stdout",
     "output_type": "stream",
     "text": [
      "\n",
      "TRANSITION THRESHOLD  30\n",
      "[[116.  87.]\n",
      " [ 87. 199.]] \n",
      " [[0.57 0.43]\n",
      " [0.3  0.7 ]] [1. 1.]\n",
      "[41.51329243 58.48670757]\n",
      "\n",
      "TRANSITION THRESHOLD  40\n",
      "[[ 81.  87.]\n",
      " [ 87. 169.]] \n",
      " [[0.48 0.52]\n",
      " [0.34 0.66]] [1. 1.]\n",
      "[39.62264151 60.37735849]\n",
      "\n",
      "TRANSITION THRESHOLD  50\n",
      "[[ 62.  87.]\n",
      " [ 87. 143.]] \n",
      " [[0.42 0.58]\n",
      " [0.38 0.62]] [1. 1.]\n",
      "[39.31398417 60.68601583]\n",
      "\n",
      "TRANSITION THRESHOLD  60\n",
      "[[ 54.  87.]\n",
      " [ 87. 132.]] \n",
      " [[0.38 0.62]\n",
      " [0.4  0.6 ]] [1. 1.]\n",
      "[39.16666667 60.83333333] [39.01194987 60.98805013]\n",
      "\n",
      "TRANSITION THRESHOLD  70\n",
      "[[ 44.  87.]\n",
      " [ 87. 120.]] \n",
      " [[0.34 0.66]\n",
      " [0.42 0.58]] [1. 1.]\n",
      "[38.75739645 61.24260355] [37.80838588 62.19161412]\n",
      "\n",
      "TRANSITION THRESHOLD  80\n",
      "[[ 37.  87.]\n",
      " [ 87. 110.]] \n",
      " [[0.3  0.7 ]\n",
      " [0.44 0.56]] [1. 1.]\n",
      "[38.62928349 61.37071651] [37.00057311 62.99942689]\n",
      "\n",
      "TRANSITION THRESHOLD  20\n",
      "[[217.  87.]\n",
      " [ 87. 261.]] \n",
      " [[0.71 0.29]\n",
      " [0.25 0.75]] [1. 1.]\n",
      "[46.62576687 53.37423313] [48.19078947 51.80921053]\n",
      "\n",
      "TRANSITION THRESHOLD  25\n",
      "[[155.  87.]\n",
      " [ 87. 223.]] \n",
      " [[0.64 0.36]\n",
      " [0.28 0.72]] [1. 1.]\n",
      "[43.84057971 56.15942029] [46.05705145 53.94294855]\n",
      "\n",
      "TRANSITION THRESHOLD  35\n",
      "[[ 88.  87.]\n",
      " [ 87. 185.]] \n",
      " [[0.5  0.5 ]\n",
      " [0.32 0.68]] [1. 1.]\n",
      "[39.14988814 60.85011186] [41.1355042 58.8644958]\n",
      "[[30.         40.         50.         60.         70.         80.\n",
      "  20.         25.         35.        ]\n",
      " [41.51329243 39.62264151 39.31398417 39.16666667 38.75739645 38.62928349\n",
      "  46.62576687 43.84057971 39.14988814]\n",
      " [58.48670757 60.37735849 60.68601583 60.83333333 61.24260355 61.37071651\n",
      "  53.37423313 56.15942029 60.85011186]]\n",
      "[[20.         25.         30.         35.         40.         50.\n",
      "  60.         70.         80.        ]\n",
      " [46.62576687 43.84057971 41.51329243 39.14988814 39.62264151 39.31398417\n",
      "  39.16666667 38.75739645 38.62928349]\n",
      " [53.37423313 56.15942029 58.48670757 60.85011186 60.37735849 60.68601583\n",
      "  60.83333333 61.24260355 61.37071651]]\n"
     ]
    },
    {
     "data": {
      "text/plain": [
       "Text(0, 0.5, 'observed probability of transition')"
      ]
     },
     "execution_count": 8,
     "metadata": {},
     "output_type": "execute_result"
    },
    {
     "data": {
      "image/png": "[encoded data removed]",
      "text/plain": [
       "<Figure size 432x288 with 1 Axes>"
      ]
     },
     "metadata": {
      "needs_background": "light"
     },
     "output_type": "display_data"
    }
   ],
   "source": [
    "#broad observations array\n",
    "trans_runs= np.load('trans_round2.npy')[()]\n",
    "num_top_keys = 4\n",
    "num_full_keys = 6\n",
    "num_tran_keys = 5\n",
    "trans_threshes = [30, 40, 50]\n",
    "\n",
    "x1 = []\n",
    "x2 = []\n",
    "for trans_fil in trans_threshes:\n",
    "    print(\"\\nTRANSITION THRESHOLD \", trans_fil)\n",
    "    \n",
    "    #Top_bottoms, Full_classif, N_transitions = trans_runs[trans_fil]\n",
    "    Top_bottoms, Full_classif, N_transitions, trans_threshes, num_top_keys, num_full_keys, num_tran_keys, skeys, ckeys, num_tran_keys, num_total_frames = trans_runs[trans_fil][0]\n",
    "    sums = np.sum\n",
    "    Tb_sums = [sums(Top_bottoms[:, c]) for c in range(num_top_keys)]\n",
    "    Fc_sums = [sums(Full_classif[:, c]) for c in range(num_full_keys)]\n",
    "    Nt_sums = sums(N_transitions, axis = 0)#[sums(N_transitions[:, c]) for c in range(num_tran_keys)]\n",
    "    T_obb = Nt_sums\n",
    "    T_obb_norm = np.vstack([T_obb[i]/np.sum(T_obb[i]) for i in range(len(T_obb))])\n",
    "    print(T_obb, '\\n', np.around(T_obb_norm, 2), np.sum(T_obb_norm, axis=1))\n",
    "    eigvals, eigvecs = np.linalg.eig(T_obb_norm.T)\n",
    "    eig_one_index = [x for x in range(len(eigvals)) if math.isclose(eigvals[x], 1.0, abs_tol = .0001)][0]\n",
    "    eigvec_one = eigvecs[:, eig_one_index]\n",
    "    evec_one = eigvec_one*100 / np.sum(eigvec_one)\n",
    "    print(evec_one)\n",
    "    #print(\"Eigenvector for eigenvalue 1 of T_obb_norm:\")\n",
    "    #print(evec_one, eigvec_one, eigvecs, eigvals)\n",
    "    x1.append(evec_one[0])\n",
    "    x2.append(evec_one[1])\n",
    "    \n",
    "trans_runs= np.load('trans_round2_2.npy')[()]\n",
    "num_top_keys = 4\n",
    "num_full_keys = 6\n",
    "num_tran_keys = 5\n",
    "trans_threshes = [60, 70, 80]\n",
    "\n",
    "for trans_fil in trans_threshes:\n",
    "    print(\"\\nTRANSITION THRESHOLD \", trans_fil)\n",
    "    \n",
    "    #Top_bottoms, Full_classif, N_transitions = trans_runs[trans_fil]\n",
    "    Top_bottoms, Full_classif, N_transitions, trans_threshes, num_top_keys, num_full_keys, num_tran_keys, skeys, ckeys, num_tran_keys, num_total_frames = trans_runs[trans_fil][0]\n",
    "    sums = np.sum\n",
    "    Tb_sums = [sums(Top_bottoms[:, c]) for c in range(num_top_keys)]\n",
    "    Fc_sums = [sums(Full_classif[:, c]) for c in range(num_full_keys)]\n",
    "    Nt_sums = sums(N_transitions, axis = 0)#[sums(N_transitions[:, c]) for c in range(num_tran_keys)]\n",
    "    T_obb = Nt_sums\n",
    "    T_obb_norm = np.vstack([T_obb[i]/np.sum(T_obb[i]) for i in range(len(T_obb))])\n",
    "    print(T_obb, '\\n', np.around(T_obb_norm, 2), np.sum(T_obb_norm, axis=1))\n",
    "    eigvals, eigvecs = np.linalg.eig(T_obb_norm.T)\n",
    "    eig_one_index = [x for x in range(len(eigvals)) if math.isclose(eigvals[x], 1.0, abs_tol = .0001)][0]\n",
    "    eigvec_one = eigvecs[:, eig_one_index]\n",
    "    evec_one = eigvec_one*100 / np.sum(eigvec_one)\n",
    "    print(evec_one, np.sum(T_obb_norm, axis=0)*100/np.sum(T_obb_norm))\n",
    "    #print(\"Eigenvector for eigenvalue 1 of T_obb_norm:\")\n",
    "    #print(evec_one, eigvec_one, eigvecs, eigvals)\n",
    "    x1.append(evec_one[0])\n",
    "    x2.append(evec_one[1])\n",
    "\n",
    "trans_runs= np.load('trans_round2_3.npy')[()]\n",
    "num_top_keys = 4\n",
    "num_full_keys = 6\n",
    "num_tran_keys = 5\n",
    "trans_threshes = [20, 25, 35]\n",
    "\n",
    "for trans_fil in trans_threshes:\n",
    "    print(\"\\nTRANSITION THRESHOLD \", trans_fil)\n",
    "    \n",
    "    #Top_bottoms, Full_classif, N_transitions = trans_runs[trans_fil]\n",
    "    Top_bottoms, Full_classif, N_transitions, trans_threshes, num_top_keys, num_full_keys, num_tran_keys, skeys, ckeys, num_tran_keys, num_total_frames = trans_runs[trans_fil][0]\n",
    "    sums = np.sum\n",
    "    Tb_sums = [sums(Top_bottoms[:, c]) for c in range(num_top_keys)]\n",
    "    Fc_sums = [sums(Full_classif[:, c]) for c in range(num_full_keys)]\n",
    "    Nt_sums = sums(N_transitions, axis = 0)#[sums(N_transitions[:, c]) for c in range(num_tran_keys)]\n",
    "    T_obb = Nt_sums\n",
    "    T_obb_norm = np.vstack([T_obb[i]/np.sum(T_obb[i]) for i in range(len(T_obb))])\n",
    "    print(T_obb, '\\n', np.around(T_obb_norm, 2), np.sum(T_obb_norm, axis=1))\n",
    "    eigvals, eigvecs = np.linalg.eig(T_obb_norm.T)\n",
    "    eig_one_index = [x for x in range(len(eigvals)) if math.isclose(eigvals[x], 1.0, abs_tol = .0001)][0]\n",
    "    eigvec_one = eigvecs[:, eig_one_index]\n",
    "    evec_one = eigvec_one*100 / np.sum(eigvec_one)\n",
    "    print(evec_one, np.sum(T_obb_norm, axis=0)*100/np.sum(T_obb_norm))\n",
    "    #print(\"Eigenvector for eigenvalue 1 of T_obb_norm:\")\n",
    "    #print(evec_one, eigvec_one, eigvecs, eigvals)\n",
    "    x1.append(evec_one[0])\n",
    "    x2.append(evec_one[1])\n",
    "\n",
    "    \n",
    "trans_threshes = [30, 40, 50, 60, 70, 80, 20, 25, 35]\n",
    "plots = np.array([trans_threshes, x1, x2])\n",
    "print(plots)\n",
    "plots = plots.T\n",
    "inds = np.argsort(plots[:, 0])\n",
    "plots = plots[inds]\n",
    "plots = plots.T\n",
    "print(plots)\n",
    "plt.plot(plots[0],plots[1], c = 'blue', ls = '-')\n",
    "plt.plot(plots[0],plots[2], c = 'green', ls = '-')\n",
    "\n",
    "plt.axhline(y=min(x1), c = 'blue', ls = ':')\n",
    "plt.axhline(y=min(x2), c = 'green', ls = ':')\n",
    "plt.axhline(y=max(x1), c = 'blue', ls = ':')\n",
    "plt.axhline(y=max(x2), c = 'green', ls = ':')\n",
    "plt.xlabel('transition threshold', fontsize=18)\n",
    "plt.ylabel('observed probability of transition', fontsize=16)\n",
    "#plt.ylim(0, 50)\n",
    "#plt.plot((1, 1, 1),(23, 42, 35), 'x')"
   ]
  },
  {
   "cell_type": "code",
   "execution_count": 9,
   "metadata": {},
   "outputs": [],
   "source": [
    "v1 = x1\n",
    "v2 = x2"
   ]
  },
  {
   "cell_type": "code",
   "execution_count": 10,
   "metadata": {
    "scrolled": false
   },
   "outputs": [
    {
     "data": {
      "text/plain": [
       "[<matplotlib.lines.Line2D at 0x181428b2b70>]"
      ]
     },
     "execution_count": 10,
     "metadata": {},
     "output_type": "execute_result"
    },
    {
     "data": {
      "image/png": "[encoded data removed]",
      "text/plain": [
       "<Figure size 432x288 with 1 Axes>"
      ]
     },
     "metadata": {
      "needs_background": "light"
     },
     "output_type": "display_data"
    }
   ],
   "source": [
    "\"tESTING HYPOTHESIS WITH all position, early state unimportant, end sate proportional to bond strengths\"\n",
    "#narrow observations array\n",
    "alphas = np.linspace(0, 20, 100)\n",
    "x1 = []\n",
    "x2 = []\n",
    "x3 = []\n",
    "for i in alphas:\n",
    "    #print('\\nalpha = %s' %i)\n",
    "    T_expected_narrow = np.asarray([[2*i + 3, 3*i + 2],\n",
    "     [2*i + 3, 3*i + 2]])\n",
    "    T_expected_broad = T_expected_narrow\n",
    "    T_expected_broad_norm = np.vstack([T_expected_broad[i]/np.sum(T_expected_broad[i]) for i in range(len(T_expected_broad))])\n",
    "    #print(T_expected_broad_norm, '\\n\\n', np.around(T_expected_broad_norm, 2))\n",
    "    eigvals, eigvecs = np.linalg.eig(T_expected_broad_norm.T)\n",
    "    eig_one_index = [x for x in range(len(eigvals)) if math.isclose(eigvals[x], 1.0, abs_tol = .0001)][0]\n",
    "    eigvec_one = eigvecs[:, eig_one_index]\n",
    "    evec_one = eigvec_one*100 / np.sum(eigvec_one)\n",
    "    #print(\"Eigenvector for eigenvalue 1 of T_ob_norm:\")\n",
    "    #print(evec_one)\n",
    "    #plt.plot((i, i, i), (evec_one), 'x')\n",
    "    x1.append(evec_one[0])\n",
    "    x2.append(evec_one[1])\n",
    "plt.plot(alphas, x1, c = 'blue', ls = '-')\n",
    "plt.plot(alphas, x2, c = 'green', ls = '-')\n",
    "\n",
    "plt.axhline(y=min(v1), c = 'blue', ls = ':')\n",
    "plt.axhline(y=min(v2), c = 'green', ls = ':')\n",
    "plt.axhline(y=max(v1), c = 'blue', ls = ':')\n",
    "plt.axhline(y=max(v2), c = 'green', ls = ':')\n",
    "plt.xlabel('bond strength', fontsize=18)\n",
    "plt.ylabel('steady state probabilities', fontsize=16)\n",
    "#plt.plot((1, 1, 1),(23, 42, 35), 'x')\n",
    "plt.plot((1, 1),(50, 50), 'o')"
   ]
  },
  {
   "cell_type": "code",
   "execution_count": 11,
   "metadata": {},
   "outputs": [
    {
     "data": {
      "text/plain": [
       "[<matplotlib.lines.Line2D at 0x18142dfb588>]"
      ]
     },
     "execution_count": 11,
     "metadata": {},
     "output_type": "execute_result"
    },
    {
     "data": {
      "image/png": "[encoded data removed]",
      "text/plain": [
       "<Figure size 432x288 with 1 Axes>"
      ]
     },
     "metadata": {
      "needs_background": "light"
     },
     "output_type": "display_data"
    }
   ],
   "source": [
    "##### \"tESTING HYPOTHESIS WITH all 2 positions for particle to swing to\"\n",
    "#narrow observations array\n",
    "\n",
    "alphas = np.linspace(0, 6, 100)#[ 0.5, 0.6, 0.7, 0.8, 1, 1.25, 1.3, 1.4, 2, 5]\n",
    "x1 = []\n",
    "x2 = []\n",
    "x3 = []\n",
    "for i in alphas:\n",
    "    #print('\\nalpha = %s' %i)\n",
    "    T_expected_narrow = np.asarray([[4*i, 2*i + 2],\n",
    "     [4, 2*i + 2]])\n",
    "    T_expected_broad = T_expected_narrow\n",
    "    T_expected_broad_norm = np.vstack([T_expected_broad[i]/np.sum(T_expected_broad[i]) for i in range(len(T_expected_broad))])\n",
    "    #print(T_expected_broad_norm, '\\n\\n', np.around(T_expected_broad_norm, 2))\n",
    "    eigvals, eigvecs = np.linalg.eig(T_expected_broad_norm.T)\n",
    "    eig_one_index = [x for x in range(len(eigvals)) if math.isclose(eigvals[x], 1.0, abs_tol = .0001)][0]\n",
    "    eigvec_one = eigvecs[:, eig_one_index]\n",
    "    evec_one = eigvec_one*100 / np.sum(eigvec_one)\n",
    "    #print(\"Eigenvector for eigenvalue 1 of T_ob_norm:\")\n",
    "    #print(evec_one)\n",
    "    #plt.plot((i, i, i), (evec_one), 'x')\n",
    "    x1.append(evec_one[0])\n",
    "    x2.append(evec_one[1])\n",
    "plt.plot(alphas, x1, c = 'blue', ls = '-')\n",
    "plt.plot(alphas, x2, c = 'green', ls = '-')\n",
    "\n",
    "plt.axhline(y=min(v1), c = 'blue', ls = ':')\n",
    "plt.axhline(y=min(v2), c = 'green', ls = ':')\n",
    "plt.axhline(y=max(v1), c = 'blue', ls = ':')\n",
    "plt.axhline(y=max(v2), c = 'green', ls = ':')\n",
    "plt.xlabel('bond strength', fontsize=18)\n",
    "plt.ylabel('steady state probabilities', fontsize=16)\n",
    "#plt.plot((1, 1, 1),(23, 42, 35), 'x')\n",
    "plt.plot((1, 1),(50, 50), 'o')"
   ]
  },
  {
   "cell_type": "code",
   "execution_count": 12,
   "metadata": {
    "scrolled": false
   },
   "outputs": [
    {
     "data": {
      "text/plain": [
       "[<matplotlib.lines.Line2D at 0x18142d28cc0>]"
      ]
     },
     "execution_count": 12,
     "metadata": {},
     "output_type": "execute_result"
    },
    {
     "data": {
      "image/png": "[encoded data removed]",
      "text/plain": [
       "<Figure size 432x288 with 1 Axes>"
      ]
     },
     "metadata": {
      "needs_background": "light"
     },
     "output_type": "display_data"
    }
   ],
   "source": [
    "\"tESTING HYPOTHESIS WITH 2 positions for particle to swing to (no swing back to old state), and original state matters\"\n",
    "#narrow observations array\n",
    "alphas = np.linspace(0,5, 100)\n",
    "x1 = []\n",
    "x2 = []\n",
    "x3 = []\n",
    "for i in alphas:\n",
    "    #print('\\nalpha = %s' %i)\n",
    "    T_expected_narrow = np.asarray([[2, i + 1],\n",
    "     [4/(i+1), 2]])\n",
    "    T_expected_broad = T_expected_narrow\n",
    "    T_expected_broad_norm = np.vstack([T_expected_broad[i]/np.sum(T_expected_broad[i]) for i in range(len(T_expected_broad))])\n",
    "    #print(T_expected_broad_norm, '\\n\\n', np.around(T_expected_broad_norm, 2))\n",
    "    eigvals, eigvecs = np.linalg.eig(T_expected_broad_norm.T)\n",
    "    eig_one_index = [x for x in range(len(eigvals)) if math.isclose(eigvals[x], 1.0, abs_tol = .0001)][0]\n",
    "    eigvec_one = eigvecs[:, eig_one_index]\n",
    "    evec_one = eigvec_one*100 / np.sum(eigvec_one)\n",
    "    #print(\"Eigenvector for eigenvalue 1 of T_ob_norm:\")\n",
    "    #print(evec_one)\n",
    "    #plt.plot((i, i, i), (evec_one), 'x')\n",
    "    x1.append(evec_one[0])\n",
    "    x2.append(evec_one[1])\n",
    "plt.plot(alphas, x1, c = 'blue', ls = '-')\n",
    "plt.plot(alphas, x2, c = 'green', ls = '-')\n",
    "\n",
    "plt.axhline(y=min(v1), c = 'blue', ls = ':')\n",
    "plt.axhline(y=min(v2), c = 'green', ls = ':')\n",
    "plt.axhline(y=max(v1), c = 'blue', ls = ':')\n",
    "plt.axhline(y=max(v2), c = 'green', ls = ':')\n",
    "plt.xlabel('bond strength', fontsize=18)\n",
    "plt.ylabel('steady state probabilities', fontsize=16)\n",
    "#plt.plot((1, 1, 1),(23, 42, 35), 'x')\n",
    "plt.plot((1, 1),(50, 50), 'o')"
   ]
  },
  {
   "cell_type": "code",
   "execution_count": 13,
   "metadata": {},
   "outputs": [
    {
     "data": {
      "text/plain": [
       "[<matplotlib.lines.Line2D at 0x181429d3f60>]"
      ]
     },
     "execution_count": 13,
     "metadata": {},
     "output_type": "execute_result"
    },
    {
     "data": {
      "image/png": "[encoded data removed]",
      "text/plain": [
       "<Figure size 432x288 with 1 Axes>"
      ]
     },
     "metadata": {
      "needs_background": "light"
     },
     "output_type": "display_data"
    }
   ],
   "source": [
    "\n",
    "\n",
    "\"tESTING HYPOTHESIS WITH break apart and both weights\"\n",
    "#narrow observations array\n",
    "fig, ax = plt.subplots()\n",
    "plt.ylim(0, 100)\n",
    "alphas = np.linspace(0, 5, 100)\n",
    "x1 = []\n",
    "x2 = []\n",
    "x3 = []\n",
    "for i in alphas:\n",
    "    #print('\\nalpha = %s' %i)\n",
    "    #print(tm)\n",
    "    t = (2/((1+i)*(2+2*i))+\n",
    "         4*i/((1+i)*(2+2*i)*(4+2*i))+\n",
    "          2*i/((1+i)*(4+2*i)))\n",
    "    #print(bm)\n",
    "    c = (2*i/((1+i)*(4+2*i))+\n",
    "          i*(2+2*i)/((1+i)*(4+2*i)))\n",
    "    \n",
    "    T_expected_narrow = np.asarray([[t, c],\n",
    "     [t, c]])\n",
    "    T_expected_broad = T_expected_narrow\n",
    "    T_expected_broad_norm = np.vstack([T_expected_broad[i]/np.sum(T_expected_broad[i]) for i in range(len(T_expected_broad))])\n",
    "    #print(T_expected_broad_norm, '\\n\\n', np.around(T_expected_broad_norm, 2))\n",
    "    eigvals, eigvecs = np.linalg.eig(T_expected_broad_norm.T)\n",
    "    eig_one_index = [x for x in range(len(eigvals)) if math.isclose(eigvals[x], 1.0, abs_tol = .0001)][0]\n",
    "    eigvec_one = eigvecs[:, eig_one_index]\n",
    "    evec_one = eigvec_one*100 / np.sum(eigvec_one)\n",
    "    #print(\"Eigenvector for eigenvalue 1 of T_ob_norm:\")\n",
    "    #print(evec_one)\n",
    "    #plt.plot((i, i, i), (evec_one), 'x')\n",
    "    x1.append(evec_one[0])\n",
    "    x2.append(evec_one[1])\n",
    "plt.plot(alphas, x1, c = 'blue', ls = '-')\n",
    "plt.plot(alphas, x2, c = 'green', ls = '-')\n",
    "\n",
    "plt.axhline(y=min(v1), c = 'blue', ls = ':')\n",
    "plt.axhline(y=min(v2), c = 'green', ls = ':')\n",
    "plt.axhline(y=max(v1), c = 'blue', ls = ':')\n",
    "plt.axhline(y=max(v2), c = 'green', ls = ':')\n",
    "plt.xlabel('bond strength', fontsize=18)\n",
    "plt.ylabel('steady state probabilities', fontsize=16)\n",
    "#plt.plot((1, 1, 1),(23, 42, 35), 'x')\n",
    "plt.plot((1, 1),(50, 50), 'o')"
   ]
  },
  {
   "cell_type": "code",
   "execution_count": 14,
   "metadata": {},
   "outputs": [
    {
     "data": {
      "text/plain": [
       "Text(0.5, 0, 'proprtion of hinge motion')"
      ]
     },
     "execution_count": 14,
     "metadata": {},
     "output_type": "execute_result"
    },
    {
     "data": {
      "image/png": "[encoded data removed]",
      "text/plain": [
       "<Figure size 432x288 with 1 Axes>"
      ]
     },
     "metadata": {
      "needs_background": "light"
     },
     "output_type": "display_data"
    }
   ],
   "source": [
    "\n",
    "\n",
    "\"tESTING HYPOTHESIS WITH break apart and both weights\"\n",
    "#narrow observations array\n",
    "fig, ax = plt.subplots()\n",
    "plt.ylim(0, 100)\n",
    "alphas = np.linspace(0, 4, 80)\n",
    "ratios = np.linspace(0, 1, 80)\n",
    "tolerances = [(38.6, 41.5), (58.5, 61.4)]\n",
    "x1 = []\n",
    "x2 = []\n",
    "x3 = []\n",
    "for i in alphas:\n",
    "    for r in ratios:\n",
    "        #print('\\nalpha = %s' %i)\n",
    "        #print(tm)\n",
    "        t = (2/((1+i)*(2+2*i))+\n",
    "             4*i/((1+i)*(2+2*i)*(4+2*i))+\n",
    "              2*i/((1+i)*(4+2*i)))\n",
    "        #print(bm)\n",
    "        c = (2*i/((1+i)*(4+2*i))+\n",
    "              i*(2+2*i)/((1+i)*(4+2*i)))\n",
    "\n",
    "        T2 = np.asarray([[t, c],\n",
    "         [t, c]])\n",
    "        T1 = np.asarray([[2, i + 1],\n",
    "         [4/(i+1), 2]])\n",
    "        T_expected_narrow = r*T1 + (1-r)*T2\n",
    "        #print(T_expected_narrow)\n",
    "        T_expected_broad = T_expected_narrow\n",
    "        T_expected_broad_norm = np.vstack([T_expected_broad[i]/np.sum(T_expected_broad[i]) for i in range(len(T_expected_broad))])\n",
    "        #print(T_expected_broad_norm, '\\n\\n', np.around(T_expected_broad_norm, 2))\n",
    "        eigvals, eigvecs = np.linalg.eig(T_expected_broad_norm.T)\n",
    "        eig_one_index = [x for x in range(len(eigvals)) if math.isclose(eigvals[x], 1.0, abs_tol = .0001)][0]\n",
    "        eigvec_one = eigvecs[:, eig_one_index]\n",
    "        evec_one = eigvec_one*100 / np.sum(eigvec_one)\n",
    "        #print(\"Eigenvector for eigenvalue 1 of T_ob_norm:\")\n",
    "        #print(evec_one)\n",
    "        #plt.plot((i, i, i), (evec_one), 'x')\n",
    "        test = all((evec_one[i]> tolerances[i][0] and evec_one[i]< tolerances[i][1])  for i in range(len(evec_one)))\n",
    "        if test:\n",
    "            col = \"green\"\n",
    "        else:\n",
    "            col = \"k\"\n",
    "        plt.plot(r, i, c=col, marker='o')\n",
    "plt.ylim(0, 4)\n",
    "plt.ylabel('bond strength', fontsize=18)\n",
    "plt.xlabel('proprtion of hinge motion', fontsize=16)"
   ]
  },
  {
   "cell_type": "code",
   "execution_count": 15,
   "metadata": {
    "scrolled": true
   },
   "outputs": [
    {
     "data": {
      "text/plain": [
       "Text(0.5, 0, 'proprtion of hinge motion')"
      ]
     },
     "execution_count": 15,
     "metadata": {},
     "output_type": "execute_result"
    },
    {
     "data": {
      "image/png": "[encoded data removed]",
      "text/plain": [
       "<Figure size 432x288 with 1 Axes>"
      ]
     },
     "metadata": {
      "needs_background": "light"
     },
     "output_type": "display_data"
    }
   ],
   "source": [
    "\n",
    "\n",
    "\"tESTING HYPOTHESIS WITH break apart and both weights\"\n",
    "#narrow observations array\n",
    "fig, ax = plt.subplots()\n",
    "plt.ylim(0, 100)\n",
    "alphas = np.linspace(0.001, 4, 80)\n",
    "ratios = np.linspace(0.001, 1, 80)\n",
    "for i in alphas:\n",
    "    for r in ratios:\n",
    "        #print('\\nalpha = %s' %i)\n",
    "        #print(tm)\n",
    "        t = (2/((1+i)*(2+2*i))+\n",
    "             4*i/((1+i)*(2+2*i)*(4+2*i))+\n",
    "              2*i/((1+i)*(4+2*i)))\n",
    "        #print(bm)\n",
    "        c = (2*i/((1+i)*(4+2*i))+\n",
    "              i*(2+2*i)/((1+i)*(4+2*i)))\n",
    "\n",
    "        T2 = np.asarray([[t, c],\n",
    "         [t, c]])\n",
    "        T1 = np.asarray([[2, i + 1],\n",
    "         [4/(i+1), 2]])\n",
    "        T_expected_narrow = r*T1 + (1-r)*T2\n",
    "        #print(T_expected_narrow)\n",
    "        T_expected_broad = T_expected_narrow\n",
    "        T_expected_broad_norm = np.vstack([T_expected_broad[i]/np.sum(T_expected_broad[i]) for i in range(len(T_expected_broad))])\n",
    "        #print(T_expected_broad_norm, '\\n\\n', np.around(T_expected_broad_norm, 2))\n",
    "        eigvals, eigvecs = np.linalg.eig(T_expected_broad_norm.T)\n",
    "        eig_one_index = [x for x in range(len(eigvals)) if math.isclose(eigvals[x], 1.0, abs_tol = .0001)][0]\n",
    "        eigvec_one = eigvecs[:, eig_one_index]\n",
    "        evec_one = eigvec_one*100 / np.sum(eigvec_one)\n",
    "        #print(\"Eigenvector for eigenvalue 1 of T_ob_norm:\")\n",
    "        #print(evec_one, int(evec_one[0]//10 -0.001), evec_one[0]//10 )\n",
    "        #plt.plot((i, i, i), (evec_one), 'x')\n",
    "        plt.plot(r, i, c='C' + str(int(evec_one[0]/10)), marker='o')#, cmap=plt.cm.get_cmap('RdBu'), marker='o')\n",
    "plt.ylim(0, 4)\n",
    "plt.ylabel('bond strength', fontsize=18)\n",
    "plt.xlabel('proprtion of hinge motion', fontsize=16)"
   ]
  },
  {
   "cell_type": "code",
   "execution_count": 16,
   "metadata": {},
   "outputs": [
    {
     "name": "stdout",
     "output_type": "stream",
     "text": [
      "[[ 3.  3.  5.]\n",
      " [ 5. 29. 13.]\n",
      " [ 9. 12. 16.]] \n",
      " [[0.27 0.27 0.45]\n",
      " [0.11 0.62 0.28]\n",
      " [0.24 0.32 0.43]] [1. 1. 1.]\n",
      "Eigenvector for eigenvalue 1 of T_obb_norm:\n",
      "[19. 44. 37.]\n"
     ]
    }
   ],
   "source": [
    "\"I don't know where I got tis from, but it's here\"\n",
    "#broken transition matrix hypothesis array\n",
    "T_obb = np.asarray([[3, 1., 2., 2., 3.],\n",
    " [3., 7., 6., 4., 2.],\n",
    " [2., 7., 9., 4., 3.],\n",
    " [5., 2., 4., 4., 4.],\n",
    " [4., 3., 3., 3., 5.]])\n",
    "T_eb = np.vstack([T_obb[0], \n",
    "                             (T_obb[1] + T_obb[2]) , \n",
    "                             (T_obb[3] + T_obb[4])])\n",
    "T_obb = np.column_stack([T_eb[:, 0], \n",
    "                             (T_eb[:, 1]+ T_eb[:, 2]), \n",
    "                             (T_eb[:, 3]+ T_eb[:, 4])])\n",
    "T_obb_norm = np.vstack([T_obb[i]/np.sum(T_obb[i]) for i in range(len(T_obb))])\n",
    "print(T_obb, '\\n', np.around(T_obb_norm, 2), np.sum(T_obb_norm, axis=1))\n",
    "eigvals, eigvecs = np.linalg.eig(T_obb_norm.T)\n",
    "eig_one_index = [x for x in range(len(eigvals)) if math.isclose(eigvals[x], 1.0, abs_tol = .0001)][0]\n",
    "eigvec_one = eigvecs[:, eig_one_index]\n",
    "evec_one = np.around(eigvec_one*100 / np.sum(eigvec_one), 0)\n",
    "print(\"Eigenvector for eigenvalue 1 of T_obb_norm:\")\n",
    "print(evec_one)"
   ]
  },
  {
   "cell_type": "markdown",
   "metadata": {
    "scrolled": false
   },
   "source": [
    "#sample initial distributions of states, given 50 steps to equalize to a stady state\n",
    "reps = 50\n",
    "trials = 6\n",
    "for i in range(trials):\n",
    "    x0 = np.random.random_integers(0, 10, 5) \n",
    "    x0 = x0*100/sum(x0)\n",
    "    xs = np.zeros((len(x0), reps))\n",
    "    xs[:,0] = x0\n",
    "    ys = [0]\n",
    "    T = T_expected_narrow\n",
    "    for rep in range(1, reps):\n",
    "        x_rep = T.dot(xs[:, rep-1])\n",
    "        #print(x_rep)\n",
    "        xs[:, rep] = x_rep\n",
    "        ys.append(rep)\n",
    "    #print(xs)\n",
    "    fig, ax = plt.subplots()\n",
    "    ax.plot(ys, xs[0],'.', ys, xs[1], '.', ys,xs[2],'.', ys,xs[3],'.', ys, xs[4], '.')\n"
   ]
  }
 ],
 "metadata": {
  "kernelspec": {
   "display_name": "Python 3",
   "language": "python",
   "name": "python3"
  },
  "language_info": {
   "codemirror_mode": {
    "name": "ipython",
    "version": 3
   },
   "file_extension": ".py",
   "mimetype": "text/x-python",
   "name": "python",
   "nbconvert_exporter": "python",
   "pygments_lexer": "ipython3",
   "version": "3.7.4"
  }
 },
 "nbformat": 4,
 "nbformat_minor": 2
}
