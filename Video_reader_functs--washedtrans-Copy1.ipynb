{
 "cells": [
  {
   "cell_type": "code",
   "execution_count": 1,
   "metadata": {},
   "outputs": [
    {
     "data": {
      "text/plain": [
       "'This is video reader with all operations inside fnctions, so they can be called on \\n    each frame out of a set of frames, and each video out of a set of videos\\n    '"
      ]
     },
     "execution_count": 1,
     "metadata": {},
     "output_type": "execute_result"
    }
   ],
   "source": [
    "\"\"\"This is video reader with all operations inside fnctions, so they can be called on \n",
    "    each frame out of a set of frames, and each video out of a set of videos\n",
    "    \"\"\""
   ]
  },
  {
   "cell_type": "code",
   "execution_count": 2,
   "metadata": {},
   "outputs": [],
   "source": [
    "\"\"\"Imports\"\"\"\n",
    "import matplotlib.pyplot as plt #for maknig plots inside the notebook\n",
    "import skimage\n",
    "import skvideo.io\n",
    "from skvideo.io import vreader, ffprobe\n",
    "from skimage import measure, morphology, feature\n",
    "from skimage.filters import *\n",
    "from skimage.morphology import *\n",
    "from operator import attrgetter\n",
    "import numpy as np\n",
    "import math\n",
    "from itertools import chain\n",
    "#from functools import partial, update_wrapper\n",
    "from scipy import ndimage \n",
    "from glob import glob\n",
    "import seaborn as sns\n",
    "from collections import OrderedDict \n",
    "#import antigravity\n",
    "\n",
    "blob_doh = skimage.feature.blob_doh"
   ]
  },
  {
   "cell_type": "code",
   "execution_count": null,
   "metadata": {
    "scrolled": true
   },
   "outputs": [
    {
     "name": "stdout",
     "output_type": "stream",
     "text": [
      "['./tchakamau\\\\Washed15vglass\\\\45660_15Vpp_0.avi', './tchakamau\\\\Washed15vglass\\\\45660_15Vpp_1.avi', './tchakamau\\\\Washed15vglass\\\\45660_15Vpp_10.avi', './tchakamau\\\\Washed15vglass\\\\45660_15Vpp_11.avi', './tchakamau\\\\Washed15vglass\\\\45660_15Vpp_2.avi', './tchakamau\\\\Washed15vglass\\\\45660_15Vpp_3.avi', './tchakamau\\\\Washed15vglass\\\\45660_15Vpp_4.avi', './tchakamau\\\\Washed15vglass\\\\45660_15Vpp_5.avi', './tchakamau\\\\Washed15vglass\\\\45660_15Vpp_6.avi', './tchakamau\\\\Washed15vglass\\\\45660_15Vpp_7.avi', './tchakamau\\\\Washed15vglass\\\\45660_15Vpp_8.avi', './tchakamau\\\\Washed15vglass\\\\45660_15Vpp_9.avi']\n",
      "Number files:  12\n",
      "Processing vid 0 : ./tchakamau\\Washed15vglass\\45660_15Vpp_0.avi\n",
      "T threshold: 30.0\n",
      "C threshold: 20\n",
      "[[2. 1.]\n",
      " [1. 4.]]\n",
      "[[[list([91, 619]) list([9041])]\n",
      "  [list([586]) list([1388, 494, 297, 558])]]\n",
      "\n",
      " [[list([0, 43]) list([8509])]\n",
      "  [list([451]) list([461, 147, 0, 183])]]\n",
      "\n",
      " [[list([91, 576]) list([532])]\n",
      "  [list([135]) list([927, 347, 297, 375])]]]\n",
      "[7434. 1665. 1382.]\n",
      "Processing vid 1 : ./tchakamau\\Washed15vglass\\45660_15Vpp_1.avi\n",
      "T threshold: 30.0\n",
      "C threshold: 20\n",
      "[[ 8.  1.]\n",
      " [ 0. 22.]]\n",
      "[[[list([481, 462, 137, 643, 202, 207, 189, 430]) list([773])]\n",
      "  [list([])\n",
      "   list([395, 863, 223, 726, 1796, 1581, 288, 1580, 803, 651, 934, 285, 704, 145, 719, 1161, 1054, 461, 529, 477, 244, 1165])]]\n",
      "\n",
      " [[list([34, 0, 8, 549, 14, 127, 95, 276]) list([303])]\n",
      "  [list([])\n",
      "   list([7, 547, 89, 531, 180, 1, 109, 1116, 537, 159, 844, 146, 161, 0, 623, 761, 830, 391, 439, 274, 98, 868])]]\n",
      "\n",
      " [[list([447, 462, 129, 94, 188, 80, 94, 154]) list([470])]\n",
      "  [list([])\n",
      "   list([388, 316, 134, 195, 1616, 1580, 179, 464, 266, 492, 90, 139, 543, 145, 96, 400, 224, 70, 90, 203, 146, 297])]]]\n",
      "[ 1873. 10026.  3723.]\n",
      "Processing vid 2 : ./tchakamau\\Washed15vglass\\45660_15Vpp_10.avi\n"
     ]
    }
   ],
   "source": [
    "\"\"\"Pipeline for lists of frames\"\"\"\n",
    "\"\"\"\"\"\"\n",
    "\"\"\"Pipeline for videos:\"\"\"\n",
    "# initialize frame lists\n",
    "filenames = glob(\"./tchakamau/W*glass/4*avi\")# +glob(\"./tchakamau/W*half/*_[1][0,1,2,3,4,7,8,9]*.avi\")  #[1,2,3,4,6,7,8,9][\"./tchakamau/New_setup/45681_10Vpp_25.avi\"\n",
    "filenames.sort()\n",
    "print(filenames)\n",
    "num_top_keys = 3\n",
    "num_full_keys = 3\n",
    "num_tran_keys = 2\n",
    "num_lengths = 3\n",
    "trans_threshes = np.linspace(30, 50, 2)#[30, 40, 50]#[5, 8, 10, 19, 27, 38, 52, 60]\n",
    "class_threshes =[20,30]\n",
    "trans_runs = {}\n",
    "#trans_fil = 10\n",
    "\n",
    "ave = np.average\n",
    "expected_blobs = 4\n",
    "expected_connections = 5\n",
    "g_bond = 15*1.15\n",
    "m_bond = 15*1.35\n",
    "    \n",
    "\"\"\"area_threshold = 1800   # must have enough particles\n",
    "convex_thresholds = (2000, 2800)   # convex hull area (> 2500 filtered)  # particles must be in parallelogram\n",
    "minor_thresholds = (38, 48) # minor_axis length (< filterd) # particles must be in parallelogram\n",
    "major_thresholds = (59, 76)\"\"\"\n",
    "thresholds = [expected_blobs , expected_connections, g_bond, m_bond]\n",
    "params = [3, 115, 98, 2, 95, 80]\n",
    "print(\"Number files: \", len(filenames))\n",
    "index = 0\n",
    "for trans_fil in trans_threshes:\n",
    "    \n",
    "    for class_thresh in class_threshes:\n",
    "        \n",
    "        Full_classif = np.zeros((len(filenames), num_full_keys))\n",
    "        N_transitions = np.zeros((len(filenames), num_tran_keys, num_tran_keys))\n",
    "        T_transitions = [[[[[] for i in range(len(filenames))] for j in range(num_lengths)] for k in range(num_tran_keys)] \n",
    "                          for l in range(num_tran_keys)]\n",
    "        num_total_frames = 0 \n",
    "        filtrate_len = 0\n",
    "        for vidnum in range(len(filenames)):\n",
    "            print(\"Processing vid %s : %s\" %(vidnum, filenames[vidnum]))\n",
    "            #meta = ffprobe(filenames[vidnum])\n",
    "            #print(meta)#['@nb_frames'])\n",
    "            #print(5)\n",
    "            frames = vreader(filenames[vidnum])\n",
    "            "
   ]
  },
  {
   "cell_type": "code",
   "execution_count": null,
   "metadata": {},
   "outputs": [],
   "source": []
  },
  {
   "cell_type": "code",
   "execution_count": null,
   "metadata": {},
   "outputs": [],
   "source": []
  }
 ],
 "metadata": {
  "kernelspec": {
   "display_name": "Python 3",
   "language": "python",
   "name": "python3"
  },
  "language_info": {
   "codemirror_mode": {
    "name": "ipython",
    "version": 3
   },
   "file_extension": ".py",
   "mimetype": "text/x-python",
   "name": "python",
   "nbconvert_exporter": "python",
   "pygments_lexer": "ipython3",
   "version": "3.7.4"
  }
 },
 "nbformat": 4,
 "nbformat_minor": 2
}
