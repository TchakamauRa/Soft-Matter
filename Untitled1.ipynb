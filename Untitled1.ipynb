{
 "cells": [
  {
   "cell_type": "code",
   "execution_count": 9,
   "metadata": {},
   "outputs": [],
   "source": [
    "import matplotlib.pyplot as plt\n",
    "import numpy as np\n",
    "from my_funs import *\n",
    "\n",
    "line_vec1 = [2, 3, 5] \n",
    "line_vec2 = [2.5, 3.2, 4.3]\n",
    "point_vecsx = np.linspace(0, 25, 100)\n",
    "point_vecsy = [np.random.uniform(2, 2.5, 100), \n",
    "               np.random.uniform(2, 2.5, 100),\n",
    "               np.random.uniform(2, 2.5, 100)]\n",
    "sanity_point_vec = [2.25, 3.1, 4.7]\n",
    "\n",
    "lines_plotter(line_vec1, line_vec2, point_vecsx, point_vecsy, sanity_point_vec, coltext)\n"
   ]
  },
  {
   "cell_type": "code",
   "execution_count": null,
   "metadata": {},
   "outputs": [],
   "source": [
    "normalize_markov_matrix(matrix)"
   ]
  },
  {
   "cell_type": "code",
   "execution_count": null,
   "metadata": {},
   "outputs": [],
   "source": [
    "unit_left_eigenvector(matrix)"
   ]
  }
 ],
 "metadata": {
  "kernelspec": {
   "display_name": "Python 3",
   "language": "python",
   "name": "python3"
  },
  "language_info": {
   "codemirror_mode": {
    "name": "ipython",
    "version": 3
   },
   "file_extension": ".py",
   "mimetype": "text/x-python",
   "name": "python",
   "nbconvert_exporter": "python",
   "pygments_lexer": "ipython3",
   "version": "3.7.1"
  }
 },
 "nbformat": 4,
 "nbformat_minor": 2
}
