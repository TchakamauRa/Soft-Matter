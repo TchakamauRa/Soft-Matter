{
 "cells": [
  {
   "cell_type": "code",
   "execution_count": 1,
   "metadata": {},
   "outputs": [
    {
     "name": "stdout",
     "output_type": "stream",
     "text": [
      "bm br bl tr tl\n",
      "[[0.5  0.   0.   0.25 0.25]\n",
      " [0.   0.   0.75 0.25 0.  ]\n",
      " [0.   0.75 0.   0.   0.25]\n",
      " [0.25 0.25 0.   0.   0.5 ]\n",
      " [0.25 0.   0.25 0.5  0.  ]]\n",
      "bm b t\n",
      "[[0.5 0.  0.5]\n",
      " [0.  1.5 0.5]\n",
      " [0.5 0.5 1. ]] [1. 2. 2.] [1. 2. 2.]\n",
      "[[0.5  0.   0.5 ]\n",
      " [0.   0.75 0.25]\n",
      " [0.25 0.25 0.5 ]] [0.75 1.   1.25] [1. 1. 1.]\n"
     ]
    }
   ],
   "source": [
    "\n",
    "import numpy as np\n",
    "import math\n",
    "import matplotlib.pyplot as plt\n",
    "#Initialize transformation matrix for predictions\n",
    "#bm, br, bl, tr, tl\n",
    "print('bm', 'br', 'bl', 'tr', 'tl')\n",
    "T_expected_narrow = np.reshape([.5, 0, 0, .25, .25, \n",
    "                                0, 0, .75, .25, 0, \n",
    "                                0, .75, 0, 0, .25, \n",
    "                                .25, .25, 0, 0, .5, \n",
    "                                .25, 0, .25, .5, 0], (5, 5))\n",
    "print(T_expected_narrow)\n",
    "T_eb = np.vstack([T_expected_narrow[0], \n",
    "                             (T_expected_narrow[1] + T_expected_narrow[2]) , \n",
    "                             (T_expected_narrow[3] + T_expected_narrow[4])])\n",
    "T_expected_broad = np.column_stack([T_eb[:, 0], \n",
    "                             (T_eb[:, 1]+ T_eb[:, 2]), \n",
    "                             (T_eb[:, 3]+ T_eb[:, 4])])\n",
    "T_expected_broad_norm  = np.vstack([T_expected_broad[0]/np.sum(T_expected_broad[0]), \n",
    "                              T_expected_broad[1]/np.sum(T_expected_broad[1]), \n",
    "                              T_expected_broad[2]/np.sum(T_expected_broad[2])])\n",
    "print('bm', 'b', 't')\n",
    "print(T_expected_broad, np.sum(T_expected_broad, axis = 0), np.sum(T_expected_broad, axis = 1))\n",
    "print(T_expected_broad_norm, np.sum(T_expected_broad_norm, axis = 0), np.sum(T_expected_broad_norm, axis = 1))"
   ]
  },
  {
   "cell_type": "code",
   "execution_count": 2,
   "metadata": {},
   "outputs": [
    {
     "name": "stdout",
     "output_type": "stream",
     "text": [
      "Eigenvector for eigenvalue 1\n",
      "[1. 1. 1. 1. 1.]\n"
     ]
    }
   ],
   "source": [
    "# np.linalg expects a right matrix but I created a left matrix above, so I use the transpose for the eigenvalue calculation\n",
    "eigvals, eigvecs = np.linalg.eig(T_expected_narrow.T)\n",
    "eig_one_index = [x for x in range(len(eigvals)) if math.isclose(eigvals[x], 1.0, abs_tol = .0001)][0]\n",
    "eigvec_one = eigvecs[:, eig_one_index]\n",
    "evec_one = eigvec_one / eigvec_one[0]\n",
    "print(\"Eigenvector for eigenvalue 1\")\n",
    "print(evec_one)"
   ]
  },
  {
   "cell_type": "code",
   "execution_count": 3,
   "metadata": {},
   "outputs": [
    {
     "name": "stdout",
     "output_type": "stream",
     "text": [
      "Eigenvector for eigenvalue 1\n",
      "[1. 2. 2.]\n"
     ]
    }
   ],
   "source": [
    "# np.linalg expects a right matrix but I created a left matrix above, so I use the transpose for the eigenvalue calculation\n",
    "eigvals, eigvecs = np.linalg.eig(T_expected_broad_norm.T)\n",
    "eig_one_index = [x for x in range(len(eigvals)) if math.isclose(eigvals[x], 1.0, abs_tol = .0001)][0]\n",
    "eigvec_one = eigvecs[:, eig_one_index]\n",
    "evec_one = eigvec_one / eigvec_one[0]\n",
    "print(\"Eigenvector for eigenvalue 1\")\n",
    "print(evec_one)"
   ]
  },
  {
   "cell_type": "code",
   "execution_count": 4,
   "metadata": {},
   "outputs": [],
   "source": [
    "def ratio(row):\n",
    "    sums = np.sum(row)\n",
    "    if sums > 0:\n",
    "        return row/sums\n",
    "    else:\n",
    "        return row"
   ]
  },
  {
   "cell_type": "code",
   "execution_count": null,
   "metadata": {},
   "outputs": [
    {
     "name": "stdout",
     "output_type": "stream",
     "text": [
      "[20.0, 25.0, 30.0, 35.0, 40.0]\n",
      "[[31 31]\n",
      " [28 48]] \n",
      " [[0.5  0.5 ]\n",
      " [0.37 0.63]] [1. 1.]\n",
      "[42.42424242 57.57575758]\n"
     ]
    }
   ],
   "source": [
    "#broad observations array\n",
    "trans_runs= np.load('trans_runs_transparentd.npy')[()]\n",
    "num_top_keys = 4\n",
    "num_full_keys = 6\n",
    "num_tran_keys = 5\n",
    "inds =  list(np.linspace(20, 40, 5))\n",
    "print(inds)\n",
    "x1 = []\n",
    "x2 = []\n",
    "\n",
    "T_obb = np.asarray([[31, 31],\n",
    "     [28, 48]])\n",
    "T_obb_norm = np.vstack([T_obb[i]/np.sum(T_obb[i]) for i in range(len(T_obb))])\n",
    "print(T_obb, '\\n', np.around(T_obb_norm, 2), np.sum(T_obb_norm, axis=1))\n",
    "eigvals, eigvecs = np.linalg.eig(T_obb_norm.T)\n",
    "eig_one_index = [x for x in range(len(eigvals)) if math.isclose(eigvals[x], 1.0, abs_tol = .0001)][0]\n",
    "eigvec_one = eigvecs[:, eig_one_index]\n",
    "evec_one = eigvec_one*100 / np.sum(eigvec_one)\n",
    "print(evec_one)\n",
    "#print(\"Eigenvector for eigenvalue 1 of T_obb_norm:\")\n",
    "#print(evec_one, eigvec_one, eigvecs, eigvals)\n",
    "x1.append(evec_one[0])\n",
    "x2.append(evec_one[1])\n",
    "    \n",
    "vec_t = x1\n",
    "vec_c = x2\n",
    "c1 = 'red'\n",
    "c2 = 'orange'\n",
    "#plt.ylim(0, 50)\n",
    "#plt.plot((1, 1, 1),(23, 42, 35), 'x')"
   ]
  },
  {
   "cell_type": "code",
   "execution_count": null,
   "metadata": {
    "scrolled": false
   },
   "outputs": [
    {
     "data": {
      "text/plain": [
       "[<matplotlib.lines.Line2D at 0x2a633910898>]"
      ]
     },
     "execution_count": 6,
     "metadata": {},
     "output_type": "execute_result"
    },
    {
     "data": {
      "image/png": "[encoded data removed]",
      "text/plain": [
       "<Figure size 432x288 with 1 Axes>"
      ]
     },
     "metadata": {
      "needs_background": "light"
     },
     "output_type": "display_data"
    }
   ],
   "source": [
    "\"tESTING HYPOTHESIS WITH all position, early state unimportant, end sate proportional to bond strengths\"\n",
    "#narrow observations array\n",
    "alphas = np.linspace(0, 20, 100)\n",
    "x1 = []\n",
    "x2 = []\n",
    "x3 = []\n",
    "for i in alphas:\n",
    "    #print('\\nalpha = %s' %i)\n",
    "    T_expected_narrow = np.asarray([[2*i + 3, 3*i + 2],\n",
    "     [2*i + 3, 3*i + 2]])\n",
    "    T_expected_broad = T_expected_narrow\n",
    "    T_expected_broad_norm = np.vstack([T_expected_broad[i]/np.sum(T_expected_broad[i]) for i in range(len(T_expected_broad))])\n",
    "    #print(T_expected_broad_norm, '\\n\\n', np.around(T_expected_broad_norm, 2))\n",
    "    eigvals, eigvecs = np.linalg.eig(T_expected_broad_norm.T)\n",
    "    eig_one_index = [x for x in range(len(eigvals)) if math.isclose(eigvals[x], 1.0, abs_tol = .0001)][0]\n",
    "    eigvec_one = eigvecs[:, eig_one_index]\n",
    "    evec_one = eigvec_one*100 / np.sum(eigvec_one)\n",
    "    #print(\"Eigenvector for eigenvalue 1 of T_ob_norm:\")\n",
    "    #print(evec_one)\n",
    "    #plt.plot((i, i, i), (evec_one), 'x')\n",
    "    x1.append(evec_one[0])\n",
    "    x2.append(evec_one[1])\n",
    "c1 = 'red'\n",
    "c2 = 'orange'\n",
    "plt.plot(alphas, x1, c = c1, ls = '-')\n",
    "plt.plot(alphas, x2, c = c2, ls = '-')\n",
    "\n",
    "plt.axhline(y=min(vec_t), c = c1, ls = ':')\n",
    "plt.axhline(y=min(vec_c), c = c2, ls = ':')\n",
    "plt.axhline(y=max(vec_t), c = c1, ls = ':')\n",
    "plt.axhline(y=max(vec_c), c = c2, ls = ':')\n",
    "plt.xlabel('bond strength', fontsize=18)\n",
    "plt.ylabel('steady state probabilities', fontsize=16)\n",
    "#plt.plot((1, 1, 1),(23, 42, 35), 'x')\n",
    "plt.plot((1, 1),(50, 50), 'o')"
   ]
  },
  {
   "cell_type": "code",
   "execution_count": null,
   "metadata": {},
   "outputs": [
    {
     "data": {
      "text/plain": [
       "[<matplotlib.lines.Line2D at 0x2a632d53588>]"
      ]
     },
     "execution_count": 7,
     "metadata": {},
     "output_type": "execute_result"
    },
    {
     "data": {
      "image/png": "[encoded data removed]",
      "text/plain": [
       "<Figure size 432x288 with 1 Axes>"
      ]
     },
     "metadata": {
      "needs_background": "light"
     },
     "output_type": "display_data"
    }
   ],
   "source": [
    "##### \"tESTING HYPOTHESIS WITH all 2 positions for particle to swing to\"\n",
    "#narrow observations array\n",
    "\n",
    "alphas = np.linspace(0, 6, 100)#[ 0.5, 0.6, 0.7, 0.8, 1, 1.25, 1.3, 1.4, 2, 5]\n",
    "x1 = []\n",
    "x2 = []\n",
    "x3 = []\n",
    "for i in alphas:\n",
    "    #print('\\nalpha = %s' %i)\n",
    "    T_expected_narrow = np.asarray([[4*i, 2*i + 2],\n",
    "     [4, 2*i + 2]])\n",
    "    T_expected_broad = T_expected_narrow\n",
    "    T_expected_broad_norm = np.vstack([T_expected_broad[i]/np.sum(T_expected_broad[i]) for i in range(len(T_expected_broad))])\n",
    "    #print(T_expected_broad_norm, '\\n\\n', np.around(T_expected_broad_norm, 2))\n",
    "    eigvals, eigvecs = np.linalg.eig(T_expected_broad_norm.T)\n",
    "    eig_one_index = [x for x in range(len(eigvals)) if math.isclose(eigvals[x], 1.0, abs_tol = .0001)][0]\n",
    "    eigvec_one = eigvecs[:, eig_one_index]\n",
    "    evec_one = eigvec_one*100 / np.sum(eigvec_one)\n",
    "    #print(\"Eigenvector for eigenvalue 1 of T_ob_norm:\")\n",
    "    #print(evec_one)\n",
    "    #plt.plot((i, i, i), (evec_one), 'x')\n",
    "    x1.append(evec_one[0])\n",
    "    x2.append(evec_one[1])\n",
    "c1 = 'red'\n",
    "c2 = 'orange'\n",
    "plt.plot(alphas, x1, c = c1, ls = '-')\n",
    "plt.plot(alphas, x2, c = c2, ls = '-')\n",
    "\n",
    "plt.axhline(y=min(vec_t), c = c1, ls = ':')\n",
    "plt.axhline(y=min(vec_c), c = c2, ls = ':')\n",
    "plt.axhline(y=max(vec_t), c = c1, ls = ':')\n",
    "plt.axhline(y=max(vec_c), c = c2, ls = ':')\n",
    "plt.xlabel('bond strength', fontsize=18)\n",
    "plt.ylabel('steady state probabilities', fontsize=16)\n",
    "#plt.plot((1, 1, 1),(23, 42, 35), 'x')\n",
    "plt.plot((1, 1),(50, 50), 'o')"
   ]
  },
  {
   "cell_type": "code",
   "execution_count": null,
   "metadata": {
    "scrolled": false
   },
   "outputs": [
    {
     "data": {
      "text/plain": [
       "[<matplotlib.lines.Line2D at 0x2a633543dd8>]"
      ]
     },
     "execution_count": 8,
     "metadata": {},
     "output_type": "execute_result"
    },
    {
     "data": {
      "image/png": "[encoded data removed]",
      "text/plain": [
       "<Figure size 432x288 with 1 Axes>"
      ]
     },
     "metadata": {
      "needs_background": "light"
     },
     "output_type": "display_data"
    }
   ],
   "source": [
    "\"tESTING HYPOTHESIS WITH 2 positions for particle to swing to (no swing back to old state), and original state matters\"\n",
    "#narrow observations array\n",
    "alphas = np.linspace(0,5, 100)\n",
    "x1 = []\n",
    "x2 = []\n",
    "x3 = []\n",
    "for i in alphas:\n",
    "    #print('\\nalpha = %s' %i)\n",
    "    T_expected_narrow = np.asarray([[2, i + 1],\n",
    "     [4/(i+1), 2]])\n",
    "    T_expected_broad = T_expected_narrow\n",
    "    T_expected_broad_norm = np.vstack([T_expected_broad[i]/np.sum(T_expected_broad[i]) for i in range(len(T_expected_broad))])\n",
    "    #print(T_expected_broad_norm, '\\n\\n', np.around(T_expected_broad_norm, 2))\n",
    "    eigvals, eigvecs = np.linalg.eig(T_expected_broad_norm.T)\n",
    "    eig_one_index = [x for x in range(len(eigvals)) if math.isclose(eigvals[x], 1.0, abs_tol = .0001)][0]\n",
    "    eigvec_one = eigvecs[:, eig_one_index]\n",
    "    evec_one = eigvec_one*100 / np.sum(eigvec_one)\n",
    "    #print(\"Eigenvector for eigenvalue 1 of T_ob_norm:\")\n",
    "    #print(evec_one)\n",
    "    #plt.plot((i, i, i), (evec_one), 'x')\n",
    "    x1.append(evec_one[0])\n",
    "    x2.append(evec_one[1])\n",
    "c1 = 'red'\n",
    "c2 = 'orange'\n",
    "plt.plot(alphas, x1, c = c1, ls = '-')\n",
    "plt.plot(alphas, x2, c = c2, ls = '-')\n",
    "\n",
    "plt.axhline(y=min(vec_t), c = c1, ls = ':')\n",
    "plt.axhline(y=min(vec_c), c = c2, ls = ':')\n",
    "plt.axhline(y=max(vec_t), c = c1, ls = ':')\n",
    "plt.axhline(y=max(vec_c), c = c2, ls = ':')\n",
    "plt.xlabel('bond strength', fontsize=18)\n",
    "plt.ylabel('steady state probabilities', fontsize=16)\n",
    "#plt.plot((1, 1, 1),(23, 42, 35), 'x')\n",
    "plt.plot((1, 1),(50, 50), 'o')"
   ]
  },
  {
   "cell_type": "code",
   "execution_count": null,
   "metadata": {},
   "outputs": [
    {
     "data": {
      "text/plain": [
       "[<matplotlib.lines.Line2D at 0x2a6335fefd0>]"
      ]
     },
     "execution_count": 9,
     "metadata": {},
     "output_type": "execute_result"
    },
    {
     "data": {
      "image/png": "[encoded data removed]",
      "text/plain": [
       "<Figure size 432x288 with 1 Axes>"
      ]
     },
     "metadata": {
      "needs_background": "light"
     },
     "output_type": "display_data"
    }
   ],
   "source": [
    "\n",
    "\n",
    "\"tESTING HYPOTHESIS WITH break apart and both weights\"\n",
    "#narrow observations array\n",
    "fig, ax = plt.subplots()\n",
    "plt.ylim(0, 100)\n",
    "alphas = np.linspace(0, 5, 100)\n",
    "x1 = []\n",
    "x2 = []\n",
    "x3 = []\n",
    "for i in alphas:\n",
    "    #print('\\nalpha = %s' %i)\n",
    "    #print(tm)\n",
    "    t = (2/((1+i)*(2+2*i))+\n",
    "         4*i/((1+i)*(2+2*i)*(4+2*i))+\n",
    "          2*i/((1+i)*(4+2*i)))\n",
    "    #print(bm)\n",
    "    c = (2*i/((1+i)*(4+2*i))+\n",
    "          i*(2+2*i)/((1+i)*(4+2*i)))\n",
    "    \n",
    "    T_expected_narrow = np.asarray([[t, c],\n",
    "     [t, c]])\n",
    "    T_expected_broad = T_expected_narrow\n",
    "    T_expected_broad_norm = np.vstack([T_expected_broad[i]/np.sum(T_expected_broad[i]) for i in range(len(T_expected_broad))])\n",
    "    #print(T_expected_broad_norm, '\\n\\n', np.around(T_expected_broad_norm, 2))\n",
    "    eigvals, eigvecs = np.linalg.eig(T_expected_broad_norm.T)\n",
    "    eig_one_index = [x for x in range(len(eigvals)) if math.isclose(eigvals[x], 1.0, abs_tol = .0001)][0]\n",
    "    eigvec_one = eigvecs[:, eig_one_index]\n",
    "    evec_one = eigvec_one*100 / np.sum(eigvec_one)\n",
    "    #print(\"Eigenvector for eigenvalue 1 of T_ob_norm:\")\n",
    "    #print(evec_one)\n",
    "    #plt.plot((i, i, i), (evec_one), 'x')\n",
    "    x1.append(evec_one[0])\n",
    "    x2.append(evec_one[1])\n",
    "c1 = 'red'\n",
    "c2 = 'orange'\n",
    "plt.plot(alphas, x1, c = c1, ls = '-')\n",
    "plt.plot(alphas, x2, c = c2, ls = '-')\n",
    "\n",
    "plt.axhline(y=min(vec_t), c = c1, ls = ':')\n",
    "plt.axhline(y=min(vec_c), c = c2, ls = ':')\n",
    "plt.axhline(y=max(vec_t), c = c1, ls = ':')\n",
    "plt.axhline(y=max(vec_c), c = c2, ls = ':')\n",
    "plt.xlabel('bond strength', fontsize=18)\n",
    "plt.ylabel('steady state probabilities', fontsize=16)\n",
    "#plt.plot((1, 1, 1),(23, 42, 35), 'x')\n",
    "plt.plot((1, 1),(50, 50), 'o')"
   ]
  },
  {
   "cell_type": "code",
   "execution_count": null,
   "metadata": {},
   "outputs": [],
   "source": [
    "\n",
    "\n",
    "\"tESTING HYPOTHESIS WITH break apart and both weights\"\n",
    "#narrow observations array\n",
    "fig, ax = plt.subplots()\n",
    "plt.ylim(0, 100)\n",
    "alphas = np.linspace(0, 4, 80)\n",
    "ratios = np.linspace(0, 1, 80)\n",
    "tolerances = [(min(vec_t)-1, max(vec_t)+1), (min(vec_c)-1, max(vec_c)+1)]\n",
    "\n",
    "x1 = []\n",
    "x2 = []\n",
    "x3 = []\n",
    "for i in alphas:\n",
    "    for r in ratios:\n",
    "        #print('\\nalpha = %s' %i)\n",
    "        #print(tm)\n",
    "        t = (2/((1+i)*(2+2*i))+\n",
    "             4*i/((1+i)*(2+2*i)*(4+2*i))+\n",
    "              2*i/((1+i)*(4+2*i)))\n",
    "        #print(bm)\n",
    "        c = (2*i/((1+i)*(4+2*i))+\n",
    "              i*(2+2*i)/((1+i)*(4+2*i)))\n",
    "\n",
    "        T2 = np.asarray([[t, c],\n",
    "         [t, c]])\n",
    "        T1 = np.asarray([[2, i + 1],\n",
    "         [4/(i+1), 2]])\n",
    "        T_expected_narrow = r*T1 + (1-r)*T2\n",
    "        #print(T_expected_narrow)\n",
    "        T_expected_broad = T_expected_narrow\n",
    "        T_expected_broad_norm = np.vstack([T_expected_broad[i]/np.sum(T_expected_broad[i]) for i in range(len(T_expected_broad))])\n",
    "        #print(T_expected_broad_norm, '\\n\\n', np.around(T_expected_broad_norm, 2))\n",
    "        eigvals, eigvecs = np.linalg.eig(T_expected_broad_norm.T)\n",
    "        eig_one_index = [x for x in range(len(eigvals)) if math.isclose(eigvals[x], 1.0, abs_tol = .0001)][0]\n",
    "        eigvec_one = eigvecs[:, eig_one_index]\n",
    "        evec_one = eigvec_one*100 / np.sum(eigvec_one)\n",
    "        #print(\"Eigenvector for eigenvalue 1 of T_ob_norm:\")\n",
    "        #print(evec_one)\n",
    "        #plt.plot((i, i, i), (evec_one), 'x')\n",
    "        test = all((evec_one[i]>= tolerances[i][0] and evec_one[i]<= tolerances[i][1])  for i in range(len(evec_one)))\n",
    "        if test:\n",
    "            col = \"green\"\n",
    "        else:\n",
    "            col = \"k\"\n",
    "        plt.plot(r, i, c=col, marker='o')\n",
    "plt.ylim(0, 4)\n",
    "plt.ylabel('bond strength', fontsize=18)\n",
    "plt.xlabel('proprtion of hinge motion', fontsize=16)"
   ]
  },
  {
   "cell_type": "code",
   "execution_count": null,
   "metadata": {
    "scrolled": true
   },
   "outputs": [],
   "source": [
    "\n",
    "\n",
    "\"tESTING HYPOTHESIS WITH break apart and both weights\"\n",
    "#narrow observations array\n",
    "fig, ax = plt.subplots()\n",
    "plt.ylim(0, 100)\n",
    "alphas = np.linspace(0.001, 4, 80)\n",
    "ratios = np.linspace(0.001, 1, 80)\n",
    "for i in alphas:\n",
    "    for r in ratios:\n",
    "        #print('\\nalpha = %s' %i)\n",
    "        #print(tm)\n",
    "        t = (2/((1+i)*(2+2*i))+\n",
    "             4*i/((1+i)*(2+2*i)*(4+2*i))+\n",
    "              2*i/((1+i)*(4+2*i)))\n",
    "        #print(bm)\n",
    "        c = (2*i/((1+i)*(4+2*i))+\n",
    "              i*(2+2*i)/((1+i)*(4+2*i)))\n",
    "\n",
    "        T2 = np.asarray([[t, c],\n",
    "         [t, c]])\n",
    "        T1 = np.asarray([[2, i + 1],\n",
    "         [4/(i+1), 2]])\n",
    "        T_expected_narrow = r*T1 + (1-r)*T2\n",
    "        #print(T_expected_narrow)\n",
    "        T_expected_broad = T_expected_narrow\n",
    "        T_expected_broad_norm = np.vstack([T_expected_broad[i]/np.sum(T_expected_broad[i]) for i in range(len(T_expected_broad))])\n",
    "        #print(T_expected_broad_norm, '\\n\\n', np.around(T_expected_broad_norm, 2))\n",
    "        eigvals, eigvecs = np.linalg.eig(T_expected_broad_norm.T)\n",
    "        eig_one_index = [x for x in range(len(eigvals)) if math.isclose(eigvals[x], 1.0, abs_tol = .0001)][0]\n",
    "        eigvec_one = eigvecs[:, eig_one_index]\n",
    "        evec_one = eigvec_one*100 / np.sum(eigvec_one)\n",
    "        #print(\"Eigenvector for eigenvalue 1 of T_ob_norm:\")\n",
    "        #print(evec_one, int(evec_one[0]//10 -0.001), evec_one[0]//10 )\n",
    "        #plt.plot((i, i, i), (evec_one), 'x')\n",
    "        plt.plot(r, i, c='C' + str(int(evec_one[0]/10)), marker='o')#, cmap=plt.cm.get_cmap('RdBu'), marker='o')\n",
    "plt.ylim(0, 4)\n",
    "plt.ylabel('bond strength', fontsize=18)\n",
    "plt.xlabel('proprtion of hinge motion', fontsize=16)"
   ]
  },
  {
   "cell_type": "markdown",
   "metadata": {
    "scrolled": false
   },
   "source": [
    "#sample initial distributions of states, given 50 steps to equalize to a stady state\n",
    "reps = 50\n",
    "trials = 6\n",
    "for i in range(trials):\n",
    "    x0 = np.random.random_integers(0, 10, 5) \n",
    "    x0 = x0*100/sum(x0)\n",
    "    xs = np.zeros((len(x0), reps))\n",
    "    xs[:,0] = x0\n",
    "    ys = [0]\n",
    "    T = T_expected_narrow\n",
    "    for rep in range(1, reps):\n",
    "        x_rep = T.dot(xs[:, rep-1])\n",
    "        #print(x_rep)\n",
    "        xs[:, rep] = x_rep\n",
    "        ys.append(rep)\n",
    "    #print(xs)\n",
    "    fig, ax = plt.subplots()\n",
    "    ax.plot(ys, xs[0],'.', ys, xs[1], '.', ys,xs[2],'.', ys,xs[3],'.', ys, xs[4], '.')\n"
   ]
  }
 ],
 "metadata": {
  "kernelspec": {
   "display_name": "Python 3",
   "language": "python",
   "name": "python3"
  },
  "language_info": {
   "codemirror_mode": {
    "name": "ipython",
    "version": 3
   },
   "file_extension": ".py",
   "mimetype": "text/x-python",
   "name": "python",
   "nbconvert_exporter": "python",
   "pygments_lexer": "ipython3",
   "version": "3.7.1"
  }
 },
 "nbformat": 4,
 "nbformat_minor": 2
}
