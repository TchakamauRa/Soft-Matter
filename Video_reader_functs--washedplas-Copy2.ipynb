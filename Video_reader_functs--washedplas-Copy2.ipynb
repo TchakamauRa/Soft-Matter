{
 "cells": [
  {
   "cell_type": "code",
   "execution_count": 1,
   "metadata": {},
   "outputs": [
    {
     "data": {
      "text/plain": [
       "'This is video reader with all operations inside fnctions, so they can be called on \\n    each frame out of a set of frames, and each video out of a set of videos\\n    '"
      ]
     },
     "execution_count": 1,
     "metadata": {},
     "output_type": "execute_result"
    }
   ],
   "source": [
    "\"\"\"This is video reader with all operations inside fnctions, so they can be called on \n",
    "    each frame out of a set of frames, and each video out of a set of videos\n",
    "    \"\"\""
   ]
  },
  {
   "cell_type": "code",
   "execution_count": 1,
   "metadata": {},
   "outputs": [],
   "source": [
    "\"\"\"Imports\"\"\"\n",
    "import matplotlib.pyplot as plt #for maknig plots inside the notebook\n",
    "import skimage\n",
    "import skvideo.io\n",
    "from skvideo.io import vreader, ffprobe\n",
    "from skimage import measure, morphology, feature\n",
    "from skimage.filters import *\n",
    "from skimage.morphology import *\n",
    "from operator import attrgetter\n",
    "import numpy as np\n",
    "import math\n",
    "from itertools import chain\n",
    "#from functools import partial, update_wrapper\n",
    "from scipy import ndimage \n",
    "from glob import glob\n",
    "import seaborn as sns\n",
    "from collections import OrderedDict \n",
    "#import antigravity\n",
    "blob_doh = skimage.feature.blob_doh"
   ]
  },
  {
   "cell_type": "code",
   "execution_count": 29,
   "metadata": {
    "scrolled": true
   },
   "outputs": [
    {
     "name": "stdout",
     "output_type": "stream",
     "text": [
      "['./tchakamau\\\\Washed15vplastic\\\\45659_15Vpp_7.avi', './tchakamau\\\\Washed15vplastic\\\\45660_15Vpp_3.avi', './tchakamau\\\\Washed15vplastic\\\\45660_15Vpp_4.avi', './tchakamau\\\\Washed15vplastic\\\\45660_15Vpp_5_separate.avi', './tchakamau\\\\Washed15vplastic\\\\45660_15Vpp_6.avi', './tchakamau\\\\Washed15vplastic\\\\45661_15Vpp_11.avi', './tchakamau\\\\Washed15vplastic\\\\45661_15Vpp_18.avi', './tchakamau\\\\Washed15vplastic\\\\45661_15Vpp_8.avi', './tchakamau\\\\Washed15vplastic\\\\45688_15Vpp_12.avi', './tchakamau\\\\Washed15vplastic\\\\45697_15Vpp_15.avi', './tchakamau\\\\Washed15vplastic\\\\45697_15Vpp_16.avi', './tchakamau\\\\Washed15vplastic\\\\45697_15Vpp_17.avi', './tchakamau\\\\Washed15vplastic\\\\45731_15Vpp_0.avi', './tchakamau\\\\Washed15vplastic\\\\45748_15Vpp_1.avi', './tchakamau\\\\Washed15vplastic\\\\45753_15Vpp_10.avi', './tchakamau\\\\Washed15vplastic\\\\45753_15Vpp_9.avi', './tchakamau\\\\Washed15vplastic\\\\45760_15Vpp_13.avi', './tchakamau\\\\Washed15vplastic\\\\45760_15Vpp_14.avi', './tchakamau\\\\Washed15vplastic\\\\45779_15Vpp_1.avi']\n",
      "Number files:  19\n",
      "Processing vid 0 : ./tchakamau\\Washed15vplastic\\45659_15Vpp_7.avi\n",
      "OrderedDict([('@index', '0'), ('@codec_name', 'rawvideo'), ('@codec_long_name', 'raw video'), ('@codec_type', 'video'), ('@codec_time_base', '1/5'), ('@codec_tag_string', '[0][0][0][0]'), ('@codec_tag', '0x0000'), ('@width', '256'), ('@height', '256'), ('@coded_width', '256'), ('@coded_height', '256'), ('@has_b_frames', '0'), ('@pix_fmt', 'pal8'), ('@level', '-99'), ('@refs', '1'), ('@r_frame_rate', '5/1'), ('@avg_frame_rate', '5/1'), ('@time_base', '1/5'), ('@start_pts', '0'), ('@start_time', '0.000000'), ('@duration_ts', '85589'), ('@duration', '17117.800000'), ('@bit_rate', '2621471'), ('@nb_frames', '85589'), ('disposition', OrderedDict([('@default', '0'), ('@dub', '0'), ('@original', '0'), ('@comment', '0'), ('@lyrics', '0'), ('@karaoke', '0'), ('@forced', '0'), ('@hearing_impaired', '0'), ('@visual_impaired', '0'), ('@clean_effects', '0'), ('@attached_pic', '0'), ('@timed_thumbnails', '0')]))])\n",
      "framerate:  5.0\n",
      "Processing vid 1 : ./tchakamau\\Washed15vplastic\\45660_15Vpp_3.avi\n",
      "OrderedDict([('@index', '0'), ('@codec_name', 'rawvideo'), ('@codec_long_name', 'raw video'), ('@codec_type', 'video'), ('@codec_time_base', '1/5'), ('@codec_tag_string', '[0][0][0][0]'), ('@codec_tag', '0x0000'), ('@width', '256'), ('@height', '256'), ('@coded_width', '256'), ('@coded_height', '256'), ('@has_b_frames', '0'), ('@pix_fmt', 'pal8'), ('@level', '-99'), ('@refs', '1'), ('@r_frame_rate', '5/1'), ('@avg_frame_rate', '5/1'), ('@time_base', '1/5'), ('@start_pts', '0'), ('@start_time', '0.000000'), ('@duration_ts', '12635'), ('@duration', '2527.000000'), ('@bit_rate', '2621647'), ('@nb_frames', '12635'), ('disposition', OrderedDict([('@default', '0'), ('@dub', '0'), ('@original', '0'), ('@comment', '0'), ('@lyrics', '0'), ('@karaoke', '0'), ('@forced', '0'), ('@hearing_impaired', '0'), ('@visual_impaired', '0'), ('@clean_effects', '0'), ('@attached_pic', '0'), ('@timed_thumbnails', '0')]))])\n",
      "framerate:  5.0\n",
      "Processing vid 2 : ./tchakamau\\Washed15vplastic\\45660_15Vpp_4.avi\n",
      "OrderedDict([('@index', '0'), ('@codec_name', 'rawvideo'), ('@codec_long_name', 'raw video'), ('@codec_type', 'video'), ('@codec_time_base', '1/5'), ('@codec_tag_string', '[0][0][0][0]'), ('@codec_tag', '0x0000'), ('@width', '256'), ('@height', '256'), ('@coded_width', '256'), ('@coded_height', '256'), ('@has_b_frames', '0'), ('@pix_fmt', 'pal8'), ('@level', '-99'), ('@refs', '1'), ('@r_frame_rate', '5/1'), ('@avg_frame_rate', '5/1'), ('@time_base', '1/5'), ('@start_pts', '0'), ('@start_time', '0.000000'), ('@duration_ts', '27629'), ('@duration', '5525.800000'), ('@bit_rate', '2621535'), ('@nb_frames', '27629'), ('disposition', OrderedDict([('@default', '0'), ('@dub', '0'), ('@original', '0'), ('@comment', '0'), ('@lyrics', '0'), ('@karaoke', '0'), ('@forced', '0'), ('@hearing_impaired', '0'), ('@visual_impaired', '0'), ('@clean_effects', '0'), ('@attached_pic', '0'), ('@timed_thumbnails', '0')]))])\n",
      "framerate:  5.0\n",
      "Processing vid 3 : ./tchakamau\\Washed15vplastic\\45660_15Vpp_5_separate.avi\n",
      "OrderedDict([('@index', '0'), ('@codec_name', 'rawvideo'), ('@codec_long_name', 'raw video'), ('@codec_type', 'video'), ('@codec_time_base', '1/5'), ('@codec_tag_string', '[0][0][0][0]'), ('@codec_tag', '0x0000'), ('@width', '256'), ('@height', '256'), ('@coded_width', '256'), ('@coded_height', '256'), ('@has_b_frames', '0'), ('@pix_fmt', 'pal8'), ('@level', '-99'), ('@refs', '1'), ('@r_frame_rate', '5/1'), ('@avg_frame_rate', '5/1'), ('@time_base', '1/5'), ('@start_pts', '0'), ('@start_time', '0.000000'), ('@duration_ts', '49066'), ('@duration', '9813.200000'), ('@bit_rate', '2621493'), ('@nb_frames', '49066'), ('disposition', OrderedDict([('@default', '0'), ('@dub', '0'), ('@original', '0'), ('@comment', '0'), ('@lyrics', '0'), ('@karaoke', '0'), ('@forced', '0'), ('@hearing_impaired', '0'), ('@visual_impaired', '0'), ('@clean_effects', '0'), ('@attached_pic', '0'), ('@timed_thumbnails', '0')]))])\n",
      "framerate:  5.0\n",
      "Processing vid 4 : ./tchakamau\\Washed15vplastic\\45660_15Vpp_6.avi\n",
      "OrderedDict([('@index', '0'), ('@codec_name', 'rawvideo'), ('@codec_long_name', 'raw video'), ('@codec_type', 'video'), ('@codec_time_base', '1/5'), ('@codec_tag_string', '[0][0][0][0]'), ('@codec_tag', '0x0000'), ('@width', '256'), ('@height', '256'), ('@coded_width', '256'), ('@coded_height', '256'), ('@has_b_frames', '0'), ('@pix_fmt', 'pal8'), ('@level', '-99'), ('@refs', '1'), ('@r_frame_rate', '5/1'), ('@avg_frame_rate', '5/1'), ('@time_base', '1/5'), ('@start_pts', '0'), ('@start_time', '0.000000'), ('@duration_ts', '30663'), ('@duration', '6132.600000'), ('@bit_rate', '2621525'), ('@nb_frames', '30663'), ('disposition', OrderedDict([('@default', '0'), ('@dub', '0'), ('@original', '0'), ('@comment', '0'), ('@lyrics', '0'), ('@karaoke', '0'), ('@forced', '0'), ('@hearing_impaired', '0'), ('@visual_impaired', '0'), ('@clean_effects', '0'), ('@attached_pic', '0'), ('@timed_thumbnails', '0')]))])\n",
      "framerate:  5.0\n",
      "Processing vid 5 : ./tchakamau\\Washed15vplastic\\45661_15Vpp_11.avi\n",
      "OrderedDict([('@index', '0'), ('@codec_name', 'rawvideo'), ('@codec_long_name', 'raw video'), ('@codec_type', 'video'), ('@codec_time_base', '1/5'), ('@codec_tag_string', '[0][0][0][0]'), ('@codec_tag', '0x0000'), ('@width', '256'), ('@height', '256'), ('@coded_width', '256'), ('@coded_height', '256'), ('@has_b_frames', '0'), ('@pix_fmt', 'pal8'), ('@level', '-99'), ('@refs', '1'), ('@r_frame_rate', '5/1'), ('@avg_frame_rate', '5/1'), ('@time_base', '1/5'), ('@start_pts', '0'), ('@start_time', '0.000000'), ('@duration_ts', '12086'), ('@duration', '2417.200000'), ('@bit_rate', '2621657'), ('@nb_frames', '12086'), ('disposition', OrderedDict([('@default', '0'), ('@dub', '0'), ('@original', '0'), ('@comment', '0'), ('@lyrics', '0'), ('@karaoke', '0'), ('@forced', '0'), ('@hearing_impaired', '0'), ('@visual_impaired', '0'), ('@clean_effects', '0'), ('@attached_pic', '0'), ('@timed_thumbnails', '0')]))])\n",
      "framerate:  5.0\n",
      "Processing vid 6 : ./tchakamau\\Washed15vplastic\\45661_15Vpp_18.avi\n",
      "OrderedDict([('@index', '0'), ('@codec_name', 'rawvideo'), ('@codec_long_name', 'raw video'), ('@codec_type', 'video'), ('@codec_time_base', '1/5'), ('@codec_tag_string', '[0][0][0][0]'), ('@codec_tag', '0x0000'), ('@width', '256'), ('@height', '256'), ('@coded_width', '256'), ('@coded_height', '256'), ('@has_b_frames', '0'), ('@pix_fmt', 'pal8'), ('@level', '-99'), ('@refs', '1'), ('@r_frame_rate', '5/1'), ('@avg_frame_rate', '5/1'), ('@time_base', '1/5'), ('@start_pts', '0'), ('@start_time', '0.000000'), ('@duration_ts', '15488'), ('@duration', '3097.600000'), ('@bit_rate', '2621609'), ('@nb_frames', '15488'), ('disposition', OrderedDict([('@default', '0'), ('@dub', '0'), ('@original', '0'), ('@comment', '0'), ('@lyrics', '0'), ('@karaoke', '0'), ('@forced', '0'), ('@hearing_impaired', '0'), ('@visual_impaired', '0'), ('@clean_effects', '0'), ('@attached_pic', '0'), ('@timed_thumbnails', '0')]))])\n",
      "framerate:  5.0\n",
      "Processing vid 7 : ./tchakamau\\Washed15vplastic\\45661_15Vpp_8.avi\n",
      "OrderedDict([('@index', '0'), ('@codec_name', 'rawvideo'), ('@codec_long_name', 'raw video'), ('@codec_type', 'video'), ('@codec_time_base', '1/5'), ('@codec_tag_string', '[0][0][0][0]'), ('@codec_tag', '0x0000'), ('@width', '256'), ('@height', '256'), ('@coded_width', '256'), ('@coded_height', '256'), ('@has_b_frames', '0'), ('@pix_fmt', 'pal8'), ('@level', '-99'), ('@refs', '1'), ('@r_frame_rate', '5/1'), ('@avg_frame_rate', '5/1'), ('@time_base', '1/5'), ('@start_pts', '0'), ('@start_time', '0.000000'), ('@duration_ts', '12635'), ('@duration', '2527.000000'), ('@bit_rate', '2621647'), ('@nb_frames', '12635'), ('disposition', OrderedDict([('@default', '0'), ('@dub', '0'), ('@original', '0'), ('@comment', '0'), ('@lyrics', '0'), ('@karaoke', '0'), ('@forced', '0'), ('@hearing_impaired', '0'), ('@visual_impaired', '0'), ('@clean_effects', '0'), ('@attached_pic', '0'), ('@timed_thumbnails', '0')]))])\n",
      "framerate:  5.0\n",
      "Processing vid 8 : ./tchakamau\\Washed15vplastic\\45688_15Vpp_12.avi\n",
      "OrderedDict([('@index', '0'), ('@codec_name', 'rawvideo'), ('@codec_long_name', 'raw video'), ('@codec_type', 'video'), ('@codec_time_base', '1/5'), ('@codec_tag_string', '[0][0][0][0]'), ('@codec_tag', '0x0000'), ('@width', '256'), ('@height', '256'), ('@coded_width', '256'), ('@coded_height', '256'), ('@has_b_frames', '0'), ('@pix_fmt', 'pal8'), ('@level', '-99'), ('@refs', '1'), ('@r_frame_rate', '5/1'), ('@avg_frame_rate', '5/1'), ('@time_base', '1/5'), ('@start_pts', '0'), ('@start_time', '0.000000'), ('@duration_ts', '23128'), ('@duration', '4625.600000'), ('@bit_rate', '2621553'), ('@nb_frames', '23128'), ('disposition', OrderedDict([('@default', '0'), ('@dub', '0'), ('@original', '0'), ('@comment', '0'), ('@lyrics', '0'), ('@karaoke', '0'), ('@forced', '0'), ('@hearing_impaired', '0'), ('@visual_impaired', '0'), ('@clean_effects', '0'), ('@attached_pic', '0'), ('@timed_thumbnails', '0')]))])\n",
      "framerate:  5.0\n",
      "Processing vid 9 : ./tchakamau\\Washed15vplastic\\45697_15Vpp_15.avi\n",
      "OrderedDict([('@index', '0'), ('@codec_name', 'rawvideo'), ('@codec_long_name', 'raw video'), ('@codec_type', 'video'), ('@codec_time_base', '1/5'), ('@codec_tag_string', '[0][0][0][0]'), ('@codec_tag', '0x0000'), ('@width', '256'), ('@height', '256'), ('@coded_width', '256'), ('@coded_height', '256'), ('@has_b_frames', '0'), ('@pix_fmt', 'pal8'), ('@level', '-99'), ('@refs', '1'), ('@r_frame_rate', '5/1'), ('@avg_frame_rate', '5/1'), ('@time_base', '1/5'), ('@start_pts', '0'), ('@start_time', '0.000000'), ('@duration_ts', '17717'), ('@duration', '3543.400000'), ('@bit_rate', '2621588'), ('@nb_frames', '17717'), ('disposition', OrderedDict([('@default', '0'), ('@dub', '0'), ('@original', '0'), ('@comment', '0'), ('@lyrics', '0'), ('@karaoke', '0'), ('@forced', '0'), ('@hearing_impaired', '0'), ('@visual_impaired', '0'), ('@clean_effects', '0'), ('@attached_pic', '0'), ('@timed_thumbnails', '0')]))])\n",
      "framerate:  5.0\n",
      "Processing vid 10 : ./tchakamau\\Washed15vplastic\\45697_15Vpp_16.avi\n",
      "OrderedDict([('@index', '0'), ('@codec_name', 'rawvideo'), ('@codec_long_name', 'raw video'), ('@codec_type', 'video'), ('@codec_time_base', '1/5'), ('@codec_tag_string', '[0][0][0][0]'), ('@codec_tag', '0x0000'), ('@width', '256'), ('@height', '256'), ('@coded_width', '256'), ('@coded_height', '256'), ('@has_b_frames', '0'), ('@pix_fmt', 'pal8'), ('@level', '-99'), ('@refs', '1'), ('@r_frame_rate', '5/1'), ('@avg_frame_rate', '5/1'), ('@time_base', '1/5'), ('@start_pts', '0'), ('@start_time', '0.000000'), ('@duration_ts', '5001'), ('@duration', '1000.200000'), ('@bit_rate', '2621964'), ('@nb_frames', '5001'), ('disposition', OrderedDict([('@default', '0'), ('@dub', '0'), ('@original', '0'), ('@comment', '0'), ('@lyrics', '0'), ('@karaoke', '0'), ('@forced', '0'), ('@hearing_impaired', '0'), ('@visual_impaired', '0'), ('@clean_effects', '0'), ('@attached_pic', '0'), ('@timed_thumbnails', '0')]))])\n",
      "framerate:  5.0\n",
      "Processing vid 11 : ./tchakamau\\Washed15vplastic\\45697_15Vpp_17.avi\n"
     ]
    },
    {
     "name": "stdout",
     "output_type": "stream",
     "text": [
      "OrderedDict([('@index', '0'), ('@codec_name', 'rawvideo'), ('@codec_long_name', 'raw video'), ('@codec_type', 'video'), ('@codec_time_base', '1/5'), ('@codec_tag_string', '[0][0][0][0]'), ('@codec_tag', '0x0000'), ('@width', '256'), ('@height', '256'), ('@coded_width', '256'), ('@coded_height', '256'), ('@has_b_frames', '0'), ('@pix_fmt', 'pal8'), ('@level', '-99'), ('@refs', '1'), ('@r_frame_rate', '5/1'), ('@avg_frame_rate', '5/1'), ('@time_base', '1/5'), ('@start_pts', '0'), ('@start_time', '0.000000'), ('@duration_ts', '8967'), ('@duration', '1793.400000'), ('@bit_rate', '2621732'), ('@nb_frames', '8967'), ('disposition', OrderedDict([('@default', '0'), ('@dub', '0'), ('@original', '0'), ('@comment', '0'), ('@lyrics', '0'), ('@karaoke', '0'), ('@forced', '0'), ('@hearing_impaired', '0'), ('@visual_impaired', '0'), ('@clean_effects', '0'), ('@attached_pic', '0'), ('@timed_thumbnails', '0')]))])\n",
      "framerate:  5.0\n",
      "Processing vid 12 : ./tchakamau\\Washed15vplastic\\45731_15Vpp_0.avi\n",
      "OrderedDict([('@index', '0'), ('@codec_name', 'rawvideo'), ('@codec_long_name', 'raw video'), ('@codec_type', 'video'), ('@codec_time_base', '1/5'), ('@codec_tag_string', '[0][0][0][0]'), ('@codec_tag', '0x0000'), ('@width', '256'), ('@height', '256'), ('@coded_width', '256'), ('@coded_height', '256'), ('@has_b_frames', '0'), ('@pix_fmt', 'pal8'), ('@level', '-99'), ('@refs', '1'), ('@r_frame_rate', '5/1'), ('@avg_frame_rate', '5/1'), ('@time_base', '1/5'), ('@start_pts', '0'), ('@start_time', '0.000000'), ('@duration_ts', '15896'), ('@duration', '3179.200000'), ('@bit_rate', '2621605'), ('@nb_frames', '15896'), ('disposition', OrderedDict([('@default', '0'), ('@dub', '0'), ('@original', '0'), ('@comment', '0'), ('@lyrics', '0'), ('@karaoke', '0'), ('@forced', '0'), ('@hearing_impaired', '0'), ('@visual_impaired', '0'), ('@clean_effects', '0'), ('@attached_pic', '0'), ('@timed_thumbnails', '0')]))])\n",
      "framerate:  5.0\n",
      "Processing vid 13 : ./tchakamau\\Washed15vplastic\\45748_15Vpp_1.avi\n",
      "OrderedDict([('@index', '0'), ('@codec_name', 'rawvideo'), ('@codec_long_name', 'raw video'), ('@codec_type', 'video'), ('@codec_time_base', '1/5'), ('@codec_tag_string', '[0][0][0][0]'), ('@codec_tag', '0x0000'), ('@width', '256'), ('@height', '256'), ('@coded_width', '256'), ('@coded_height', '256'), ('@has_b_frames', '0'), ('@pix_fmt', 'pal8'), ('@level', '-99'), ('@refs', '1'), ('@r_frame_rate', '5/1'), ('@avg_frame_rate', '5/1'), ('@time_base', '1/5'), ('@start_pts', '0'), ('@start_time', '0.000000'), ('@duration_ts', '22417'), ('@duration', '4483.400000'), ('@bit_rate', '2621557'), ('@nb_frames', '22417'), ('disposition', OrderedDict([('@default', '0'), ('@dub', '0'), ('@original', '0'), ('@comment', '0'), ('@lyrics', '0'), ('@karaoke', '0'), ('@forced', '0'), ('@hearing_impaired', '0'), ('@visual_impaired', '0'), ('@clean_effects', '0'), ('@attached_pic', '0'), ('@timed_thumbnails', '0')]))])\n",
      "framerate:  5.0\n",
      "Processing vid 14 : ./tchakamau\\Washed15vplastic\\45753_15Vpp_10.avi\n",
      "OrderedDict([('@index', '0'), ('@codec_name', 'rawvideo'), ('@codec_long_name', 'raw video'), ('@codec_type', 'video'), ('@codec_time_base', '1/5'), ('@codec_tag_string', '[0][0][0][0]'), ('@codec_tag', '0x0000'), ('@width', '256'), ('@height', '256'), ('@coded_width', '256'), ('@coded_height', '256'), ('@has_b_frames', '0'), ('@pix_fmt', 'pal8'), ('@level', '-99'), ('@refs', '1'), ('@r_frame_rate', '5/1'), ('@avg_frame_rate', '5/1'), ('@time_base', '1/5'), ('@start_pts', '0'), ('@start_time', '0.000000'), ('@duration_ts', '6379'), ('@duration', '1275.800000'), ('@bit_rate', '2621851'), ('@nb_frames', '6379'), ('disposition', OrderedDict([('@default', '0'), ('@dub', '0'), ('@original', '0'), ('@comment', '0'), ('@lyrics', '0'), ('@karaoke', '0'), ('@forced', '0'), ('@hearing_impaired', '0'), ('@visual_impaired', '0'), ('@clean_effects', '0'), ('@attached_pic', '0'), ('@timed_thumbnails', '0')]))])\n",
      "framerate:  5.0\n",
      "Processing vid 15 : ./tchakamau\\Washed15vplastic\\45753_15Vpp_9.avi\n",
      "OrderedDict([('@index', '0'), ('@codec_name', 'rawvideo'), ('@codec_long_name', 'raw video'), ('@codec_type', 'video'), ('@codec_time_base', '1/5'), ('@codec_tag_string', '[0][0][0][0]'), ('@codec_tag', '0x0000'), ('@width', '256'), ('@height', '256'), ('@coded_width', '256'), ('@coded_height', '256'), ('@has_b_frames', '0'), ('@pix_fmt', 'pal8'), ('@level', '-99'), ('@refs', '1'), ('@r_frame_rate', '5/1'), ('@avg_frame_rate', '5/1'), ('@time_base', '1/5'), ('@start_pts', '0'), ('@start_time', '0.000000'), ('@duration_ts', '19564'), ('@duration', '3912.800000'), ('@bit_rate', '2621574'), ('@nb_frames', '19564'), ('disposition', OrderedDict([('@default', '0'), ('@dub', '0'), ('@original', '0'), ('@comment', '0'), ('@lyrics', '0'), ('@karaoke', '0'), ('@forced', '0'), ('@hearing_impaired', '0'), ('@visual_impaired', '0'), ('@clean_effects', '0'), ('@attached_pic', '0'), ('@timed_thumbnails', '0')]))])\n",
      "framerate:  5.0\n",
      "Processing vid 16 : ./tchakamau\\Washed15vplastic\\45760_15Vpp_13.avi\n",
      "OrderedDict([('@index', '0'), ('@codec_name', 'rawvideo'), ('@codec_long_name', 'raw video'), ('@codec_type', 'video'), ('@codec_time_base', '1/5'), ('@codec_tag_string', '[0][0][0][0]'), ('@codec_tag', '0x0000'), ('@width', '256'), ('@height', '256'), ('@coded_width', '256'), ('@coded_height', '256'), ('@has_b_frames', '0'), ('@pix_fmt', 'pal8'), ('@level', '-99'), ('@refs', '1'), ('@r_frame_rate', '5/1'), ('@avg_frame_rate', '5/1'), ('@time_base', '1/5'), ('@start_pts', '0'), ('@start_time', '0.000000'), ('@duration_ts', '51959'), ('@duration', '10391.800000'), ('@bit_rate', '2621490'), ('@nb_frames', '51959'), ('disposition', OrderedDict([('@default', '0'), ('@dub', '0'), ('@original', '0'), ('@comment', '0'), ('@lyrics', '0'), ('@karaoke', '0'), ('@forced', '0'), ('@hearing_impaired', '0'), ('@visual_impaired', '0'), ('@clean_effects', '0'), ('@attached_pic', '0'), ('@timed_thumbnails', '0')]))])\n",
      "framerate:  5.0\n",
      "Processing vid 17 : ./tchakamau\\Washed15vplastic\\45760_15Vpp_14.avi\n",
      "OrderedDict([('@index', '0'), ('@codec_name', 'rawvideo'), ('@codec_long_name', 'raw video'), ('@codec_type', 'video'), ('@codec_time_base', '1/5'), ('@codec_tag_string', '[0][0][0][0]'), ('@codec_tag', '0x0000'), ('@width', '256'), ('@height', '256'), ('@coded_width', '256'), ('@coded_height', '256'), ('@has_b_frames', '0'), ('@pix_fmt', 'pal8'), ('@level', '-99'), ('@refs', '1'), ('@r_frame_rate', '5/1'), ('@avg_frame_rate', '5/1'), ('@time_base', '1/5'), ('@start_pts', '0'), ('@start_time', '0.000000'), ('@duration_ts', '30077'), ('@duration', '6015.400000'), ('@bit_rate', '2621527'), ('@nb_frames', '30077'), ('disposition', OrderedDict([('@default', '0'), ('@dub', '0'), ('@original', '0'), ('@comment', '0'), ('@lyrics', '0'), ('@karaoke', '0'), ('@forced', '0'), ('@hearing_impaired', '0'), ('@visual_impaired', '0'), ('@clean_effects', '0'), ('@attached_pic', '0'), ('@timed_thumbnails', '0')]))])\n",
      "framerate:  5.0\n",
      "Processing vid 18 : ./tchakamau\\Washed15vplastic\\45779_15Vpp_1.avi\n",
      "OrderedDict([('@index', '0'), ('@codec_name', 'rawvideo'), ('@codec_long_name', 'raw video'), ('@codec_type', 'video'), ('@codec_time_base', '1/5'), ('@codec_tag_string', '[0][0][0][0]'), ('@codec_tag', '0x0000'), ('@width', '256'), ('@height', '256'), ('@coded_width', '256'), ('@coded_height', '256'), ('@has_b_frames', '0'), ('@pix_fmt', 'pal8'), ('@level', '-99'), ('@refs', '1'), ('@r_frame_rate', '5/1'), ('@avg_frame_rate', '5/1'), ('@time_base', '1/5'), ('@start_pts', '0'), ('@start_time', '0.000000'), ('@duration_ts', '15920'), ('@duration', '3184.000000'), ('@bit_rate', '2621605'), ('@nb_frames', '15920'), ('disposition', OrderedDict([('@default', '0'), ('@dub', '0'), ('@original', '0'), ('@comment', '0'), ('@lyrics', '0'), ('@karaoke', '0'), ('@forced', '0'), ('@hearing_impaired', '0'), ('@visual_impaired', '0'), ('@clean_effects', '0'), ('@attached_pic', '0'), ('@timed_thumbnails', '0')]))])\n",
      "framerate:  5.0\n"
     ]
    }
   ],
   "source": [
    "\"\"\"Pipeline for lists of frames\"\"\"\n",
    "\"\"\"\"\"\"\n",
    "\"\"\"Pipeline for videos:\"\"\"\n",
    "# initialize frame lists\n",
    "filenames = glob(\"./tchakamau/W*plastic/4*avi\")# +glob(\"./tchakamau/W*half/*_[1][0,1,2,3,4,7,8,9]*.avi\")  #[1,2,3,4,6,7,8,9][\"./tchakamau/New_setup/45681_10Vpp_25.avi\"\n",
    "filenames.sort()\n",
    "print(filenames)\n",
    "\n",
    "    \n",
    "\"\"\"area_threshold = 1800   # must have enough particles\n",
    "convex_thresholds = (2000, 2800)   # convex hull area (> 2500 filtered)  # particles must be in parallelogram\n",
    "minor_thresholds = (38, 48) # minor_axis length (< filterd) # particles must be in parallelogram\n",
    "major_thresholds = (59, 76)\"\"\"\n",
    "print(\"Number files: \", len(filenames))\n",
    "\n",
    "for vidnum in range(len(filenames)):\n",
    "    print(\"Processing vid %s : %s\" %(vidnum, filenames[vidnum]))\n",
    "    #meta = ffprobe(filenames[vidnum])\n",
    "    #print(meta)#['@nb_frames'])\n",
    "    #print(5)\n",
    "    frames = ffprobe(filenames[vidnum])['video']\n",
    "    print(frames)\n",
    "    framerate = int(frames[\"@nb_frames\"])/ float(frames[\"@duration\"])\n",
    "    print('framerate: ', framerate)\n"
   ]
  },
  {
   "cell_type": "code",
   "execution_count": null,
   "metadata": {},
   "outputs": [],
   "source": []
  },
  {
   "cell_type": "code",
   "execution_count": null,
   "metadata": {},
   "outputs": [],
   "source": []
  },
  {
   "cell_type": "code",
   "execution_count": null,
   "metadata": {},
   "outputs": [],
   "source": []
  }
 ],
 "metadata": {
  "kernelspec": {
   "display_name": "Python 3",
   "language": "python",
   "name": "python3"
  },
  "language_info": {
   "codemirror_mode": {
    "name": "ipython",
    "version": 3
   },
   "file_extension": ".py",
   "mimetype": "text/x-python",
   "name": "python",
   "nbconvert_exporter": "python",
   "pygments_lexer": "ipython3",
   "version": "3.7.4"
  }
 },
 "nbformat": 4,
 "nbformat_minor": 2
}
