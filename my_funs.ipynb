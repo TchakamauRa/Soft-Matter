{
 "cells": [
  {
   "cell_type": "code",
   "execution_count": 2,
   "metadata": {},
   "outputs": [],
   "source": [
    "import matplotlib.pyplot as plt\n",
    "\n",
    "def lines_plotter(line_vec1, line_vec2, point_vecsx, point_vecsy, sanity_point_vec, coltext):\n",
    "    for i in range(len(point_vecsx)):\n",
    "        plt.plot(point_vecsx[i], point_vecsy[i], ls = '-', c=coltext[i])\n",
    "    for i in range(len(line_vec1)):\n",
    "        plt.axhline(line_vec1[i], ls = ':', c=coltext[i])\n",
    "        plt.axhline(line_vec2[i], ls = ':', c=coltext[i])\n",
    "    units = np.ones(len(sanity_point_vec))\n",
    "    plt.plot(units,sanity_point_vec, 'o')\n",
    "    \n",
    "def normalize_markov_matrix(matrix):\n",
    "    T_expected_narrow = matrix\n",
    "    T_eb = np.vstack([T_expected_narrow[0], \n",
    "                             (T_expected_narrow[1] + T_expected_narrow[2]) , \n",
    "                             (T_expected_narrow[3] + T_expected_narrow[4])])\n",
    "    T_expected_broad = np.column_stack([T_eb[:, 0], \n",
    "                                 (T_eb[:, 1]+ T_eb[:, 2]), \n",
    "                                 (T_eb[:, 3]+ T_eb[:, 4])])\n",
    "    T_expected_broad_norm  = np.vstack([T_expected_broad[0]/np.sum(T_expected_broad[0]), \n",
    "                                  T_expected_broad[1]/np.sum(T_expected_broad[1]), \n",
    "                                  T_expected_broad[2]/np.sum(T_expected_broad[2])])\n",
    "    T_expected_broad_norm = np.vstack([T_expected_broad[i]/np.sum(T_expected_broad[i]) for i in range(len(T_expected_broad))])\n",
    "    norm_matrix = T_expected_broad_norm\n",
    "    return norm_matrix\n",
    "\n",
    "def unit_left_eigenvector(matrix):\n",
    "    eigvals, eigvecs = np.linalg.eig(matrix.T)\n",
    "    eig_one_index = [x for x in range(len(eigvals)) if math.isclose(eigvals[x], 1.0, abs_tol = .0001)][0]\n",
    "    eigvec_one = eigvecs[:, eig_one_index]\n",
    "    evec_one = eigvec_one*100 / np.sum(eigvec_one)\n",
    "    return evec_one"
   ]
  },
  {
   "cell_type": "code",
   "execution_count": null,
   "metadata": {},
   "outputs": [],
   "source": []
  }
 ],
 "metadata": {
  "kernelspec": {
   "display_name": "Python 3",
   "language": "python",
   "name": "python3"
  },
  "language_info": {
   "codemirror_mode": {
    "name": "ipython",
    "version": 3
   },
   "file_extension": ".py",
   "mimetype": "text/x-python",
   "name": "python",
   "nbconvert_exporter": "python",
   "pygments_lexer": "ipython3",
   "version": "3.7.1"
  }
 },
 "nbformat": 4,
 "nbformat_minor": 2
}
